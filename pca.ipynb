{
 "cells": [
  {
   "cell_type": "code",
   "execution_count": 14,
   "id": "4d915a24-13a0-4f46-8d95-17452bbc0d0f",
   "metadata": {},
   "outputs": [],
   "source": [
    "import numpy as np\n",
    "import pandas as pd\n",
    "import matplotlib.pyplot as plt\n",
    "\n",
    "from sklearn.preprocessing import StandardScaler\n",
    "from sklearn.model_selection import train_test_split\n",
    "from sklearn.decomposition import PCA"
   ]
  },
  {
   "cell_type": "code",
   "execution_count": 2,
   "id": "56b11df3-69e7-4f6b-a003-84954deda0b0",
   "metadata": {},
   "outputs": [],
   "source": [
    "import seffaflik\n",
    "from seffaflik.elektrik import santraller, tuketim, uretim, yekdem"
   ]
  },
  {
   "cell_type": "code",
   "execution_count": 3,
   "id": "0ba005ab-1a7e-4ae9-b87e-a0ef7dadf1b4",
   "metadata": {},
   "outputs": [],
   "source": [
    "df_prod = uretim.gerceklesen(baslangic_tarihi='2021-06-01', bitis_tarihi='2021-06-30')"
   ]
  },
  {
   "cell_type": "code",
   "execution_count": 8,
   "id": "50cf7743-3491-40e0-b107-e1b617714658",
   "metadata": {},
   "outputs": [],
   "source": [
    "features = [col for col in df_prod.columns if col not in ['Toplam', 'Saat', 'Tarih']]\n",
    "target = ['Toplam']"
   ]
  },
  {
   "cell_type": "code",
   "execution_count": 10,
   "id": "6ff90fdc-1f7c-4402-828b-c143bb3f09b6",
   "metadata": {},
   "outputs": [],
   "source": [
    "X = df_prod.loc[:,features]\n",
    "y = df_prod.loc[:,target]"
   ]
  },
  {
   "cell_type": "code",
   "execution_count": 25,
   "id": "85a5cd2c-a9da-4be0-9f2b-15ab661106d6",
   "metadata": {},
   "outputs": [
    {
     "data": {
      "text/plain": [
       "15"
      ]
     },
     "execution_count": 25,
     "metadata": {},
     "output_type": "execute_result"
    }
   ],
   "source": [
    "len(features)"
   ]
  },
  {
   "cell_type": "code",
   "execution_count": 12,
   "id": "af6f7de4-fc72-4607-968a-667b71b5e87d",
   "metadata": {},
   "outputs": [],
   "source": [
    "scaler = StandardScaler()\n",
    "X_scaled = scaler.fit_transform(X)"
   ]
  },
  {
   "cell_type": "markdown",
   "id": "0fda4fab-9cad-4d21-ac94-9347c3f097eb",
   "metadata": {},
   "source": [
    "StandardScaler helps standardize the dataset’s features. Note you fit on the training set and transform on the training and test set.\n",
    "\n",
    "see: https://scikit-learn.org/stable/auto_examples/preprocessing/plot_scaling_importance.html#sphx-glr-auto-examples-preprocessing-plot-scaling-importance-py"
   ]
  },
  {
   "cell_type": "code",
   "execution_count": 49,
   "id": "406f4003-8b16-46b8-84e1-e7ba424d795c",
   "metadata": {},
   "outputs": [],
   "source": [
    "#pca = PCA(n_components=8) # keep 8 pca components\n",
    "pca = PCA(.90) # keep a specific number of components for which 95% percent variance is retained\n",
    "\n",
    "principal_components = pca.fit_transform(X_scaled)"
   ]
  },
  {
   "cell_type": "markdown",
   "id": "1c5fd18e-b84a-4829-a5ed-4248256607e1",
   "metadata": {},
   "source": [
    "Note that you should fit pca on the training data only! But transform it both on the training and test data\n",
    "\n",
    "Example:\n",
    "\n",
    "pca.fit(train_img)\n",
    "\n",
    "train_img = pca.transform(train_img)\n",
    "\n",
    "test_img = pca.transform(test_img)\n",
    "\n",
    "PCA's main weakness is that it tends to be highly affected by outliers in the data. For this reason, many robust variants of PCA have been developed, many of which act to iteratively discard data points that are poorly described by the initial components. Scikit-Learn contains a couple interesting variants on PCA, including RandomizedPCA and SparsePCA, both also in the sklearn.decomposition submodule."
   ]
  },
  {
   "cell_type": "code",
   "execution_count": 64,
   "id": "6a750bd8-86c6-4624-89c4-2c96c68e9b07",
   "metadata": {},
   "outputs": [],
   "source": [
    "#pca.inverse_transform(principal_components)"
   ]
  },
  {
   "cell_type": "markdown",
   "id": "8e93693c-578e-4158-9a45-8640a11087b7",
   "metadata": {},
   "source": [
    "see: https://jakevdp.github.io/PythonDataScienceHandbook/05.09-principal-component-analysis.html\n",
    "\n",
    "for inverse_transform"
   ]
  },
  {
   "cell_type": "code",
   "execution_count": 50,
   "id": "f42a6422-51e7-4336-be5a-48cf0702926d",
   "metadata": {},
   "outputs": [
    {
     "data": {
      "text/plain": [
       "(720, 8)"
      ]
     },
     "execution_count": 50,
     "metadata": {},
     "output_type": "execute_result"
    }
   ],
   "source": [
    "np.shape(principal_components)"
   ]
  },
  {
   "cell_type": "code",
   "execution_count": 55,
   "id": "22bb137d-b45a-4ec1-9896-6d31f6241589",
   "metadata": {},
   "outputs": [
    {
     "data": {
      "text/plain": [
       "8"
      ]
     },
     "execution_count": 55,
     "metadata": {},
     "output_type": "execute_result"
    }
   ],
   "source": [
    "pca.n_components_"
   ]
  },
  {
   "cell_type": "code",
   "execution_count": 58,
   "id": "e3ed9adb-fa3c-4f12-b732-f40a80289715",
   "metadata": {},
   "outputs": [
    {
     "data": {
      "text/plain": [
       "array([[ 0.33044485,  0.42864292,  0.06006152,  0.03547   ,  0.4276852 ,\n",
       "         0.18411658,  0.14674373,  0.24471867, -0.43777465, -0.30036045,\n",
       "        -0.01728779,  0.12670763,  0.        ,  0.        , -0.3251995 ],\n",
       "       [ 0.17217867, -0.27933595,  0.06088264, -0.59284835, -0.20619778,\n",
       "        -0.10331827, -0.12353445,  0.27239996,  0.08417821, -0.182588  ,\n",
       "         0.40543831,  0.3523278 ,  0.        ,  0.        , -0.25603892],\n",
       "       [ 0.22842362,  0.06874129,  0.29722901,  0.19978178, -0.05175961,\n",
       "        -0.5748594 ,  0.35300715,  0.40041508,  0.05567235,  0.4364026 ,\n",
       "         0.04997357, -0.01668624, -0.        , -0.        , -0.02069624],\n",
       "       [-0.23047151,  0.05877243, -0.59528756, -0.18971484, -0.06246439,\n",
       "        -0.26069967,  0.5542001 , -0.20265699, -0.309056  ,  0.02310481,\n",
       "         0.11990735,  0.14788791, -0.        , -0.        ,  0.02641799],\n",
       "       [ 0.30352457,  0.09982394, -0.51754175,  0.07143431,  0.03272349,\n",
       "         0.110553  , -0.30801011,  0.24109082, -0.0410932 ,  0.26608384,\n",
       "         0.46366998, -0.3919758 , -0.        , -0.        ,  0.13245285],\n",
       "       [-0.17496378, -0.12864722,  0.2001862 , -0.163085  , -0.04405836,\n",
       "         0.1239924 ,  0.40389756,  0.09327091,  0.06268253, -0.26959257,\n",
       "         0.17299808, -0.74263946, -0.        , -0.        , -0.19740171],\n",
       "       [-0.14594721,  0.13878197,  0.35093653,  0.2612946 ,  0.04198496,\n",
       "         0.10401668,  0.11828217, -0.2069962 , -0.05064524, -0.11792814,\n",
       "         0.712911  ,  0.20955308,  0.        ,  0.        ,  0.36050073],\n",
       "       [ 0.44324786,  0.00514199,  0.07638038, -0.32071384,  0.16114198,\n",
       "        -0.34668184, -0.02268755, -0.20600347, -0.04714804, -0.32583535,\n",
       "        -0.14057882, -0.19342251,  0.        ,  0.        ,  0.58321531]])"
      ]
     },
     "execution_count": 58,
     "metadata": {},
     "output_type": "execute_result"
    }
   ],
   "source": [
    "pca.components_"
   ]
  },
  {
   "cell_type": "code",
   "execution_count": 51,
   "id": "7ec85b98-4919-4388-809d-0827fb7c47ed",
   "metadata": {},
   "outputs": [],
   "source": [
    "principal_df = pd.DataFrame(data=principal_components,\n",
    "                            columns=['pc1', 'pc2', 'pc3', 'pc4',\n",
    "                                     'pc5', 'pc6', 'pc7', 'pc8'])"
   ]
  },
  {
   "cell_type": "code",
   "execution_count": 60,
   "id": "78fc2128-0acf-44fd-8d33-9af0aa28465a",
   "metadata": {},
   "outputs": [
    {
     "data": {
      "text/plain": [
       "array([0.29912164, 0.15216274, 0.1196192 , 0.09329167, 0.07517607,\n",
       "       0.06225707, 0.05864056, 0.04126824])"
      ]
     },
     "execution_count": 60,
     "metadata": {},
     "output_type": "execute_result"
    }
   ],
   "source": [
    "pca.explained_variance_ratio_"
   ]
  },
  {
   "cell_type": "code",
   "execution_count": 62,
   "id": "2c10c0b4-8100-4487-bb99-1e8ea0bd5510",
   "metadata": {},
   "outputs": [
    {
     "data": {
      "text/plain": [
       "array([0.29912164, 0.45128438, 0.57090358, 0.66419525, 0.73937132,\n",
       "       0.8016284 , 0.86026896, 0.90153721])"
      ]
     },
     "execution_count": 62,
     "metadata": {},
     "output_type": "execute_result"
    }
   ],
   "source": [
    "np.cumsum(pca.explained_variance_ratio_)"
   ]
  },
  {
   "cell_type": "code",
   "execution_count": 59,
   "id": "a0a91d9f-63c0-4e1b-9a30-5ae226c2d7d7",
   "metadata": {},
   "outputs": [
    {
     "data": {
      "image/png": "[encoded data removed]",
      "text/plain": [
       "<Figure size 432x288 with 1 Axes>"
      ]
     },
     "metadata": {
      "needs_background": "light"
     },
     "output_type": "display_data"
    }
   ],
   "source": [
    "plt.plot(np.cumsum(pca.explained_variance_ratio_))\n",
    "plt.xlabel('number of components')\n",
    "plt.ylabel('cumulative explained variance');"
   ]
  },
  {
   "cell_type": "code",
   "execution_count": 53,
   "id": "ef26c9cd-6608-452f-ac63-8d0b589375e7",
   "metadata": {},
   "outputs": [
    {
     "data": {
      "text/html": [
       "<div>\n",
       "<style scoped>\n",
       "    .dataframe tbody tr th:only-of-type {\n",
       "        vertical-align: middle;\n",
       "    }\n",
       "\n",
       "    .dataframe tbody tr th {\n",
       "        vertical-align: top;\n",
       "    }\n",
       "\n",
       "    .dataframe thead th {\n",
       "        text-align: right;\n",
       "    }\n",
       "</style>\n",
       "<table border=\"1\" class=\"dataframe\">\n",
       "  <thead>\n",
       "    <tr style=\"text-align: right;\">\n",
       "      <th></th>\n",
       "      <th>pc1</th>\n",
       "      <th>pc2</th>\n",
       "      <th>pc3</th>\n",
       "      <th>pc4</th>\n",
       "      <th>pc5</th>\n",
       "      <th>pc6</th>\n",
       "      <th>pc7</th>\n",
       "      <th>pc8</th>\n",
       "    </tr>\n",
       "  </thead>\n",
       "  <tbody>\n",
       "    <tr>\n",
       "      <th>0</th>\n",
       "      <td>-0.411622</td>\n",
       "      <td>-1.315360</td>\n",
       "      <td>-0.178959</td>\n",
       "      <td>-0.835240</td>\n",
       "      <td>-0.173356</td>\n",
       "      <td>0.123634</td>\n",
       "      <td>-2.879261</td>\n",
       "      <td>-0.639262</td>\n",
       "    </tr>\n",
       "    <tr>\n",
       "      <th>1</th>\n",
       "      <td>-1.465150</td>\n",
       "      <td>-1.164935</td>\n",
       "      <td>-0.219227</td>\n",
       "      <td>-0.778720</td>\n",
       "      <td>-0.010110</td>\n",
       "      <td>0.110433</td>\n",
       "      <td>-2.220836</td>\n",
       "      <td>0.227835</td>\n",
       "    </tr>\n",
       "    <tr>\n",
       "      <th>2</th>\n",
       "      <td>-1.896325</td>\n",
       "      <td>-0.824499</td>\n",
       "      <td>-0.510817</td>\n",
       "      <td>-0.702406</td>\n",
       "      <td>-0.045721</td>\n",
       "      <td>0.456415</td>\n",
       "      <td>-1.487156</td>\n",
       "      <td>0.296152</td>\n",
       "    </tr>\n",
       "    <tr>\n",
       "      <th>3</th>\n",
       "      <td>-2.026176</td>\n",
       "      <td>-0.579449</td>\n",
       "      <td>-0.449452</td>\n",
       "      <td>-0.676254</td>\n",
       "      <td>-0.312231</td>\n",
       "      <td>0.114385</td>\n",
       "      <td>-1.536479</td>\n",
       "      <td>0.447956</td>\n",
       "    </tr>\n",
       "    <tr>\n",
       "      <th>4</th>\n",
       "      <td>-2.171433</td>\n",
       "      <td>-0.382122</td>\n",
       "      <td>-0.439181</td>\n",
       "      <td>-0.654085</td>\n",
       "      <td>0.128651</td>\n",
       "      <td>0.557007</td>\n",
       "      <td>-1.101454</td>\n",
       "      <td>0.301831</td>\n",
       "    </tr>\n",
       "    <tr>\n",
       "      <th>...</th>\n",
       "      <td>...</td>\n",
       "      <td>...</td>\n",
       "      <td>...</td>\n",
       "      <td>...</td>\n",
       "      <td>...</td>\n",
       "      <td>...</td>\n",
       "      <td>...</td>\n",
       "      <td>...</td>\n",
       "    </tr>\n",
       "    <tr>\n",
       "      <th>715</th>\n",
       "      <td>3.897053</td>\n",
       "      <td>-0.768065</td>\n",
       "      <td>-1.479670</td>\n",
       "      <td>-0.299606</td>\n",
       "      <td>0.188897</td>\n",
       "      <td>-0.154799</td>\n",
       "      <td>0.986969</td>\n",
       "      <td>1.227864</td>\n",
       "    </tr>\n",
       "    <tr>\n",
       "      <th>716</th>\n",
       "      <td>3.867461</td>\n",
       "      <td>-0.901830</td>\n",
       "      <td>-1.394484</td>\n",
       "      <td>-0.470294</td>\n",
       "      <td>0.495479</td>\n",
       "      <td>-0.594817</td>\n",
       "      <td>1.249566</td>\n",
       "      <td>1.309041</td>\n",
       "    </tr>\n",
       "    <tr>\n",
       "      <th>717</th>\n",
       "      <td>3.678059</td>\n",
       "      <td>-0.923931</td>\n",
       "      <td>-1.711553</td>\n",
       "      <td>-0.252251</td>\n",
       "      <td>-0.143598</td>\n",
       "      <td>-1.537847</td>\n",
       "      <td>1.648399</td>\n",
       "      <td>1.292207</td>\n",
       "    </tr>\n",
       "    <tr>\n",
       "      <th>718</th>\n",
       "      <td>3.318890</td>\n",
       "      <td>-0.450955</td>\n",
       "      <td>-1.766570</td>\n",
       "      <td>-0.461220</td>\n",
       "      <td>-0.009900</td>\n",
       "      <td>-0.853676</td>\n",
       "      <td>1.607713</td>\n",
       "      <td>1.871445</td>\n",
       "    </tr>\n",
       "    <tr>\n",
       "      <th>719</th>\n",
       "      <td>2.767389</td>\n",
       "      <td>0.109822</td>\n",
       "      <td>-1.493302</td>\n",
       "      <td>-0.503838</td>\n",
       "      <td>-0.206684</td>\n",
       "      <td>-0.986874</td>\n",
       "      <td>1.679675</td>\n",
       "      <td>2.032745</td>\n",
       "    </tr>\n",
       "  </tbody>\n",
       "</table>\n",
       "<p>720 rows × 8 columns</p>\n",
       "</div>"
      ],
      "text/plain": [
       "          pc1       pc2       pc3       pc4       pc5       pc6       pc7  \\\n",
       "0   -0.411622 -1.315360 -0.178959 -0.835240 -0.173356  0.123634 -2.879261   \n",
       "1   -1.465150 -1.164935 -0.219227 -0.778720 -0.010110  0.110433 -2.220836   \n",
       "2   -1.896325 -0.824499 -0.510817 -0.702406 -0.045721  0.456415 -1.487156   \n",
       "3   -2.026176 -0.579449 -0.449452 -0.676254 -0.312231  0.114385 -1.536479   \n",
       "4   -2.171433 -0.382122 -0.439181 -0.654085  0.128651  0.557007 -1.101454   \n",
       "..        ...       ...       ...       ...       ...       ...       ...   \n",
       "715  3.897053 -0.768065 -1.479670 -0.299606  0.188897 -0.154799  0.986969   \n",
       "716  3.867461 -0.901830 -1.394484 -0.470294  0.495479 -0.594817  1.249566   \n",
       "717  3.678059 -0.923931 -1.711553 -0.252251 -0.143598 -1.537847  1.648399   \n",
       "718  3.318890 -0.450955 -1.766570 -0.461220 -0.009900 -0.853676  1.607713   \n",
       "719  2.767389  0.109822 -1.493302 -0.503838 -0.206684 -0.986874  1.679675   \n",
       "\n",
       "          pc8  \n",
       "0   -0.639262  \n",
       "1    0.227835  \n",
       "2    0.296152  \n",
       "3    0.447956  \n",
       "4    0.301831  \n",
       "..        ...  \n",
       "715  1.227864  \n",
       "716  1.309041  \n",
       "717  1.292207  \n",
       "718  1.871445  \n",
       "719  2.032745  \n",
       "\n",
       "[720 rows x 8 columns]"
      ]
     },
     "execution_count": 53,
     "metadata": {},
     "output_type": "execute_result"
    }
   ],
   "source": [
    "principal_df"
   ]
  },
  {
   "cell_type": "code",
   "execution_count": null,
   "id": "29a1a61d-952b-4f11-9a41-0f3adc5f8e8f",
   "metadata": {},
   "outputs": [],
   "source": []
  },
  {
   "cell_type": "code",
   "execution_count": null,
   "id": "21de3054-d211-496e-8305-b7513f6994d5",
   "metadata": {},
   "outputs": [],
   "source": []
  },
  {
   "cell_type": "code",
   "execution_count": null,
   "id": "6afd4239-34a6-47d8-8c32-dfe53884e554",
   "metadata": {},
   "outputs": [],
   "source": []
  }
 ],
 "metadata": {
  "kernelspec": {
   "display_name": "Python 3 (ipykernel)",
   "language": "python",
   "name": "python3"
  },
  "language_info": {
   "codemirror_mode": {
    "name": "ipython",
    "version": 3
   },
   "file_extension": ".py",
   "mimetype": "text/x-python",
   "name": "python",
   "nbconvert_exporter": "python",
   "pygments_lexer": "ipython3",
   "version": "3.9.7"
  }
 },
 "nbformat": 4,
 "nbformat_minor": 5
}
