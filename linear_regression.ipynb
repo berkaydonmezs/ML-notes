{
 "cells": [
  {
   "cell_type": "code",
   "execution_count": 158,
   "id": "fd081a14-f946-4c51-ab58-c8e513185cd9",
   "metadata": {},
   "outputs": [],
   "source": [
    "import pandas as pd\n",
    "import numpy as np\n",
    "import matplotlib.pyplot as plt\n",
    "%matplotlib inline\n",
    "\n",
    "import seffaflik\n",
    "from seffaflik.elektrik import santraller, tuketim, uretim, yekdem\n",
    "\n",
    "from sklearn.model_selection import train_test_split\n",
    "from sklearn.linear_model import LinearRegression\n",
    "from sklearn import metrics\n",
    "from sklearn.preprocessing import StandardScaler, MinMaxScaler, RobustScaler"
   ]
  },
  {
   "cell_type": "code",
   "execution_count": null,
   "id": "68e4cf90-d37f-43b2-a2ed-dc156277e7e1",
   "metadata": {},
   "outputs": [],
   "source": []
  },
  {
   "cell_type": "code",
   "execution_count": 3,
   "id": "ecc71d85-740c-43dd-8c6b-4f46dd40c99d",
   "metadata": {},
   "outputs": [
    {
     "data": {
      "text/plain": [
       "<seffaflik._kimlik.Kimlik at 0x7f2fd5005a30>"
      ]
     },
     "execution_count": 3,
     "metadata": {},
     "output_type": "execute_result"
    }
   ],
   "source": [
    "seffaflik.Kimlik(istemci_taniticisi=\"berkay\")"
   ]
  },
  {
   "cell_type": "code",
   "execution_count": 45,
   "id": "76f44a7e-a5f2-4fed-84ad-589a818632aa",
   "metadata": {},
   "outputs": [],
   "source": [
    "vars_to_use = ['Rüzgar', 'Güneş']"
   ]
  },
  {
   "cell_type": "code",
   "execution_count": 95,
   "id": "e312ea4f-e4b2-4a00-ad70-68b4bea9d337",
   "metadata": {},
   "outputs": [],
   "source": [
    "df = uretim.gerceklesen(baslangic_tarihi='2021-06-01', bitis_tarihi='2021-06-15')"
   ]
  },
  {
   "cell_type": "code",
   "execution_count": 96,
   "id": "21b0230d-962a-40a3-b786-3b5554776119",
   "metadata": {},
   "outputs": [
    {
     "data": {
      "text/plain": [
       "Index(['Tarih', 'Saat', 'Doğalgaz', 'Barajlı', 'Linyit', 'Akarsu',\n",
       "       'İthal Kömür', 'Rüzgar', 'Güneş', 'Fuel Oil', 'Jeo Termal',\n",
       "       'Asfaltit Kömür', 'Taş Kömür', 'Biyokütle', 'Nafta', 'LNG',\n",
       "       'Uluslararası', 'Toplam'],\n",
       "      dtype='object')"
      ]
     },
     "execution_count": 96,
     "metadata": {},
     "output_type": "execute_result"
    }
   ],
   "source": [
    "df.columns"
   ]
  },
  {
   "cell_type": "code",
   "execution_count": 97,
   "id": "8bfaf17c-7a30-481a-a106-4053c188321f",
   "metadata": {},
   "outputs": [],
   "source": [
    "df_set = df[vars_to_use]"
   ]
  },
  {
   "cell_type": "code",
   "execution_count": 98,
   "id": "7b05a85a-baad-42cc-80ed-63d45f07c2fc",
   "metadata": {},
   "outputs": [
    {
     "data": {
      "text/plain": [
       "Rüzgar    0\n",
       "Güneş     0\n",
       "dtype: int64"
      ]
     },
     "execution_count": 98,
     "metadata": {},
     "output_type": "execute_result"
    }
   ],
   "source": [
    "df_set.isna().sum()"
   ]
  },
  {
   "cell_type": "code",
   "execution_count": 99,
   "id": "5d7deda9-705c-43f6-a962-ef8c39693ab3",
   "metadata": {},
   "outputs": [
    {
     "data": {
      "text/html": [
       "<div>\n",
       "<style scoped>\n",
       "    .dataframe tbody tr th:only-of-type {\n",
       "        vertical-align: middle;\n",
       "    }\n",
       "\n",
       "    .dataframe tbody tr th {\n",
       "        vertical-align: top;\n",
       "    }\n",
       "\n",
       "    .dataframe thead th {\n",
       "        text-align: right;\n",
       "    }\n",
       "</style>\n",
       "<table border=\"1\" class=\"dataframe\">\n",
       "  <thead>\n",
       "    <tr style=\"text-align: right;\">\n",
       "      <th></th>\n",
       "      <th>Rüzgar</th>\n",
       "      <th>Güneş</th>\n",
       "    </tr>\n",
       "  </thead>\n",
       "  <tbody>\n",
       "    <tr>\n",
       "      <th>count</th>\n",
       "      <td>360.000000</td>\n",
       "      <td>360.000000</td>\n",
       "    </tr>\n",
       "    <tr>\n",
       "      <th>mean</th>\n",
       "      <td>2018.113667</td>\n",
       "      <td>228.447389</td>\n",
       "    </tr>\n",
       "    <tr>\n",
       "      <th>std</th>\n",
       "      <td>891.356838</td>\n",
       "      <td>238.630532</td>\n",
       "    </tr>\n",
       "    <tr>\n",
       "      <th>min</th>\n",
       "      <td>347.350000</td>\n",
       "      <td>0.000000</td>\n",
       "    </tr>\n",
       "    <tr>\n",
       "      <th>25%</th>\n",
       "      <td>1338.610000</td>\n",
       "      <td>0.000000</td>\n",
       "    </tr>\n",
       "    <tr>\n",
       "      <th>50%</th>\n",
       "      <td>1849.730000</td>\n",
       "      <td>134.880000</td>\n",
       "    </tr>\n",
       "    <tr>\n",
       "      <th>75%</th>\n",
       "      <td>2725.252500</td>\n",
       "      <td>490.030000</td>\n",
       "    </tr>\n",
       "    <tr>\n",
       "      <th>max</th>\n",
       "      <td>4319.960000</td>\n",
       "      <td>610.040000</td>\n",
       "    </tr>\n",
       "  </tbody>\n",
       "</table>\n",
       "</div>"
      ],
      "text/plain": [
       "            Rüzgar       Güneş\n",
       "count   360.000000  360.000000\n",
       "mean   2018.113667  228.447389\n",
       "std     891.356838  238.630532\n",
       "min     347.350000    0.000000\n",
       "25%    1338.610000    0.000000\n",
       "50%    1849.730000  134.880000\n",
       "75%    2725.252500  490.030000\n",
       "max    4319.960000  610.040000"
      ]
     },
     "execution_count": 99,
     "metadata": {},
     "output_type": "execute_result"
    }
   ],
   "source": [
    "df_set.describe()"
   ]
  },
  {
   "cell_type": "code",
   "execution_count": 100,
   "id": "07d635eb-e090-4395-8526-783e1c695810",
   "metadata": {},
   "outputs": [
    {
     "data": {
      "text/plain": [
       "<AxesSubplot:xlabel='Güneş'>"
      ]
     },
     "execution_count": 100,
     "metadata": {},
     "output_type": "execute_result"
    },
    {
     "data": {
      "image/png": "[encoded data removed]",
      "text/plain": [
       "<Figure size 432x288 with 1 Axes>"
      ]
     },
     "metadata": {
      "needs_background": "light"
     },
     "output_type": "display_data"
    }
   ],
   "source": [
    "df_set.plot(x='Güneş', y='Rüzgar', style='o')"
   ]
  },
  {
   "cell_type": "code",
   "execution_count": 112,
   "id": "9c5ae5d3-5cac-4a7e-af23-f6a83df247f7",
   "metadata": {},
   "outputs": [
    {
     "data": {
      "text/plain": [
       "(array([168.,  10.,  21.,   4.,   5.,  20.,  11.,  28.,  44.,  49.]),\n",
       " array([  0.   ,  61.004, 122.008, 183.012, 244.016, 305.02 , 366.024,\n",
       "        427.028, 488.032, 549.036, 610.04 ]),\n",
       " <BarContainer object of 10 artists>)"
      ]
     },
     "execution_count": 112,
     "metadata": {},
     "output_type": "execute_result"
    },
    {
     "data": {
      "image/png": "[encoded data removed]",
      "text/plain": [
       "<Figure size 432x288 with 1 Axes>"
      ]
     },
     "metadata": {
      "needs_background": "light"
     },
     "output_type": "display_data"
    }
   ],
   "source": [
    "plt.hist(df_set['Güneş'])"
   ]
  },
  {
   "cell_type": "code",
   "execution_count": 113,
   "id": "40c276f5-0eae-4815-abca-9b229582f05b",
   "metadata": {},
   "outputs": [
    {
     "data": {
      "text/plain": [
       "(array([26., 34., 58., 73., 42., 38., 34., 41.,  9.,  5.]),\n",
       " array([ 347.35 ,  744.611, 1141.872, 1539.133, 1936.394, 2333.655,\n",
       "        2730.916, 3128.177, 3525.438, 3922.699, 4319.96 ]),\n",
       " <BarContainer object of 10 artists>)"
      ]
     },
     "execution_count": 113,
     "metadata": {},
     "output_type": "execute_result"
    },
    {
     "data": {
      "image/png": "[encoded data removed]",
      "text/plain": [
       "<Figure size 432x288 with 1 Axes>"
      ]
     },
     "metadata": {
      "needs_background": "light"
     },
     "output_type": "display_data"
    }
   ],
   "source": [
    "plt.hist(df_set['Rüzgar'])"
   ]
  },
  {
   "cell_type": "code",
   "execution_count": 145,
   "id": "76eb89ee-f89b-4f76-9a02-b5332e9504c9",
   "metadata": {},
   "outputs": [
    {
     "data": {
      "text/plain": [
       "Index(['Rüzgar', 'Güneş'], dtype='object')"
      ]
     },
     "execution_count": 145,
     "metadata": {},
     "output_type": "execute_result"
    }
   ],
   "source": [
    "df_set.columns"
   ]
  },
  {
   "cell_type": "code",
   "execution_count": 136,
   "id": "dc4cdca6-9675-48db-a7fe-0df6c7cca524",
   "metadata": {},
   "outputs": [],
   "source": [
    "scaler = StandardScaler()\n",
    "df_norm = scaler.fit_transform(df_set)"
   ]
  },
  {
   "cell_type": "code",
   "execution_count": 144,
   "id": "6ca6ba0d-4390-4b48-b034-e06fe41ac1a7",
   "metadata": {},
   "outputs": [
    {
     "data": {
      "text/plain": [
       "array([ 2.96059473e-16, -2.71387850e-17])"
      ]
     },
     "execution_count": 144,
     "metadata": {},
     "output_type": "execute_result"
    }
   ],
   "source": [
    "df_norm.mean(axis=0)"
   ]
  },
  {
   "cell_type": "code",
   "execution_count": 147,
   "id": "328c74a4-bdbd-44a0-8cc6-c110eccf6bdb",
   "metadata": {},
   "outputs": [],
   "source": [
    "X = df_norm[:,-1].reshape(-1,1)\n",
    "y = df_norm[:,0].reshape(-1,1)"
   ]
  },
  {
   "cell_type": "code",
   "execution_count": 148,
   "id": "687591dd-8d3c-4c27-b19a-8e50beddff73",
   "metadata": {},
   "outputs": [
    {
     "data": {
      "text/plain": [
       "(360, 1)"
      ]
     },
     "execution_count": 148,
     "metadata": {},
     "output_type": "execute_result"
    }
   ],
   "source": [
    "X.shape"
   ]
  },
  {
   "cell_type": "code",
   "execution_count": null,
   "id": "a4cbe93b-267c-4737-bdb6-ecfcfafee3b6",
   "metadata": {},
   "outputs": [],
   "source": []
  },
  {
   "cell_type": "code",
   "execution_count": 149,
   "id": "ecf809da-63ed-4c70-91b7-429f8b59f668",
   "metadata": {},
   "outputs": [],
   "source": [
    "X_train, X_test, y_train, y_test = train_test_split(X, y, test_size=0.2, random_state=1)"
   ]
  },
  {
   "cell_type": "code",
   "execution_count": 150,
   "id": "2b4a3270-56dc-49ef-8996-97bdf86988c8",
   "metadata": {},
   "outputs": [
    {
     "data": {
      "text/plain": [
       "LinearRegression()"
      ]
     },
     "execution_count": 150,
     "metadata": {},
     "output_type": "execute_result"
    }
   ],
   "source": [
    "regressor = LinearRegression()\n",
    "regressor.fit(X_train, y_train)"
   ]
  },
  {
   "cell_type": "code",
   "execution_count": 151,
   "id": "94467e91-bb24-4465-bd60-1607eac81366",
   "metadata": {},
   "outputs": [
    {
     "name": "stdout",
     "output_type": "stream",
     "text": [
      "[-0.01917324]\n",
      "[[-0.20831618]]\n"
     ]
    }
   ],
   "source": [
    "#To retrieve the intercept:\n",
    "print(regressor.intercept_)\n",
    "\n",
    "#For retrieving the slope:\n",
    "print(regressor.coef_)"
   ]
  },
  {
   "cell_type": "code",
   "execution_count": 152,
   "id": "a7843502-7386-4694-87db-677e93b57ebc",
   "metadata": {},
   "outputs": [],
   "source": [
    "y_pred = regressor.predict(X_test)"
   ]
  },
  {
   "cell_type": "code",
   "execution_count": 153,
   "id": "294ffe37-1b49-4fea-8305-79ae4f9f6d01",
   "metadata": {},
   "outputs": [
    {
     "data": {
      "text/html": [
       "<div>\n",
       "<style scoped>\n",
       "    .dataframe tbody tr th:only-of-type {\n",
       "        vertical-align: middle;\n",
       "    }\n",
       "\n",
       "    .dataframe tbody tr th {\n",
       "        vertical-align: top;\n",
       "    }\n",
       "\n",
       "    .dataframe thead th {\n",
       "        text-align: right;\n",
       "    }\n",
       "</style>\n",
       "<table border=\"1\" class=\"dataframe\">\n",
       "  <thead>\n",
       "    <tr style=\"text-align: right;\">\n",
       "      <th></th>\n",
       "      <th>Actual</th>\n",
       "      <th>Predicted</th>\n",
       "    </tr>\n",
       "  </thead>\n",
       "  <tbody>\n",
       "    <tr>\n",
       "      <th>0</th>\n",
       "      <td>0.804597</td>\n",
       "      <td>0.127827</td>\n",
       "    </tr>\n",
       "    <tr>\n",
       "      <th>1</th>\n",
       "      <td>-1.357330</td>\n",
       "      <td>-0.318390</td>\n",
       "    </tr>\n",
       "    <tr>\n",
       "      <th>2</th>\n",
       "      <td>2.477858</td>\n",
       "      <td>0.180531</td>\n",
       "    </tr>\n",
       "    <tr>\n",
       "      <th>3</th>\n",
       "      <td>-0.761836</td>\n",
       "      <td>-0.338470</td>\n",
       "    </tr>\n",
       "    <tr>\n",
       "      <th>4</th>\n",
       "      <td>-1.681770</td>\n",
       "      <td>-0.131001</td>\n",
       "    </tr>\n",
       "    <tr>\n",
       "      <th>...</th>\n",
       "      <td>...</td>\n",
       "      <td>...</td>\n",
       "    </tr>\n",
       "    <tr>\n",
       "      <th>67</th>\n",
       "      <td>-0.553200</td>\n",
       "      <td>0.180452</td>\n",
       "    </tr>\n",
       "    <tr>\n",
       "      <th>68</th>\n",
       "      <td>-0.390874</td>\n",
       "      <td>-0.221146</td>\n",
       "    </tr>\n",
       "    <tr>\n",
       "      <th>69</th>\n",
       "      <td>-1.616970</td>\n",
       "      <td>-0.335131</td>\n",
       "    </tr>\n",
       "    <tr>\n",
       "      <th>70</th>\n",
       "      <td>-0.498927</td>\n",
       "      <td>0.165277</td>\n",
       "    </tr>\n",
       "    <tr>\n",
       "      <th>71</th>\n",
       "      <td>-0.385863</td>\n",
       "      <td>-0.167603</td>\n",
       "    </tr>\n",
       "  </tbody>\n",
       "</table>\n",
       "<p>72 rows × 2 columns</p>\n",
       "</div>"
      ],
      "text/plain": [
       "      Actual  Predicted\n",
       "0   0.804597   0.127827\n",
       "1  -1.357330  -0.318390\n",
       "2   2.477858   0.180531\n",
       "3  -0.761836  -0.338470\n",
       "4  -1.681770  -0.131001\n",
       "..       ...        ...\n",
       "67 -0.553200   0.180452\n",
       "68 -0.390874  -0.221146\n",
       "69 -1.616970  -0.335131\n",
       "70 -0.498927   0.165277\n",
       "71 -0.385863  -0.167603\n",
       "\n",
       "[72 rows x 2 columns]"
      ]
     },
     "execution_count": 153,
     "metadata": {},
     "output_type": "execute_result"
    }
   ],
   "source": [
    "df_model = pd.DataFrame({'Actual': y_test.flatten(), 'Predicted': y_pred.flatten()})\n",
    "df_model"
   ]
  },
  {
   "cell_type": "code",
   "execution_count": 154,
   "id": "e5015733-164e-4a14-9867-9e3aa44e8e9b",
   "metadata": {},
   "outputs": [
    {
     "data": {
      "image/png": "[encoded data removed]",
      "text/plain": [
       "<Figure size 1008x720 with 1 Axes>"
      ]
     },
     "metadata": {
      "needs_background": "light"
     },
     "output_type": "display_data"
    }
   ],
   "source": [
    "df_model.plot(kind='bar', figsize=(14,10))\n",
    "plt.grid(which='major', linestyle='-', linewidth=0.5)\n",
    "plt.show()"
   ]
  },
  {
   "cell_type": "code",
   "execution_count": 155,
   "id": "32c85eac-8501-41c1-abd2-6bb97a8e2543",
   "metadata": {},
   "outputs": [
    {
     "data": {
      "image/png": "[encoded data removed]",
      "text/plain": [
       "<Figure size 432x288 with 1 Axes>"
      ]
     },
     "metadata": {
      "needs_background": "light"
     },
     "output_type": "display_data"
    }
   ],
   "source": [
    "plt.scatter(X_test, y_test,  color='gray')\n",
    "plt.plot(X_test, y_pred, color='red', linewidth=2)\n",
    "plt.show()"
   ]
  },
  {
   "cell_type": "code",
   "execution_count": 156,
   "id": "c73ae700-cc2d-45e0-9563-22f20f354c97",
   "metadata": {},
   "outputs": [
    {
     "name": "stdout",
     "output_type": "stream",
     "text": [
      "MAE: 0.8550408674691984\n",
      "MSE: 1.0791887961109015\n",
      "RMSE: 1.038840120572411\n"
     ]
    }
   ],
   "source": [
    "print('MAE:', metrics.mean_absolute_error(y_test,y_pred))\n",
    "print('MSE:', metrics.mean_squared_error(y_test,y_pred))\n",
    "print('RMSE:', np.sqrt(metrics.mean_squared_error(y_test,y_pred)))"
   ]
  },
  {
   "cell_type": "code",
   "execution_count": 157,
   "id": "1b365c42-56dc-4955-ace5-c4cb477edf20",
   "metadata": {},
   "outputs": [
    {
     "data": {
      "text/plain": [
       "0.09147111399323708"
      ]
     },
     "execution_count": 157,
     "metadata": {},
     "output_type": "execute_result"
    }
   ],
   "source": [
    "y_test.mean()"
   ]
  },
  {
   "cell_type": "code",
   "execution_count": null,
   "id": "0f35c71c-40ff-4624-ae9f-2157756ff060",
   "metadata": {},
   "outputs": [],
   "source": []
  }
 ],
 "metadata": {
  "kernelspec": {
   "display_name": "Python 3 (ipykernel)",
   "language": "python",
   "name": "python3"
  },
  "language_info": {
   "codemirror_mode": {
    "name": "ipython",
    "version": 3
   },
   "file_extension": ".py",
   "mimetype": "text/x-python",
   "name": "python",
   "nbconvert_exporter": "python",
   "pygments_lexer": "ipython3",
   "version": "3.9.7"
  }
 },
 "nbformat": 4,
 "nbformat_minor": 5
}
