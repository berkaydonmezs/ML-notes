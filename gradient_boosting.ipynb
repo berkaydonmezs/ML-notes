{
 "cells": [
  {
   "cell_type": "code",
   "execution_count": 48,
   "id": "809e1f00-4f8e-4a57-bb01-60a53ef08c41",
   "metadata": {},
   "outputs": [],
   "source": [
    "import numpy as np\n",
    "import pandas as pd\n",
    "import matplotlib.pyplot as plt\n",
    "\n",
    "from sklearn.model_selection import train_test_split\n",
    "from sklearn import metrics\n",
    "from sklearn.preprocessing import RobustScaler, StandardScaler, MinMaxScaler\n",
    "from sklearn.metrics import confusion_matrix, classification_report\n",
    "from sklearn.ensemble import GradientBoostingClassifier\n",
    "from sklearn.tree import DecisionTreeClassifier"
   ]
  },
  {
   "cell_type": "code",
   "execution_count": 2,
   "id": "8beae33b-d796-4640-b3f9-cf82a763779c",
   "metadata": {},
   "outputs": [],
   "source": [
    "import seffaflik\n",
    "from seffaflik.elektrik import santraller, tuketim, uretim, yekdem"
   ]
  },
  {
   "cell_type": "code",
   "execution_count": 5,
   "id": "42b01bdd-f4b1-4942-983c-f419d000772c",
   "metadata": {},
   "outputs": [],
   "source": [
    "df_prod = uretim.gerceklesen(baslangic_tarihi='2020-06-01', bitis_tarihi='2021-06-15')"
   ]
  },
  {
   "cell_type": "code",
   "execution_count": 58,
   "id": "2657461c-553e-47c0-81d7-31f9274b6c80",
   "metadata": {},
   "outputs": [],
   "source": [
    "features = df_prod[['Doğalgaz', 'Rüzgar']]\n",
    "target = df_prod[['Toplam']]"
   ]
  },
  {
   "cell_type": "code",
   "execution_count": 86,
   "id": "abc5d40e-0642-41ff-ab3d-66a711c7d5be",
   "metadata": {},
   "outputs": [],
   "source": [
    "target_clf = np.where(target>np.mean(target), 1, 0)"
   ]
  },
  {
   "cell_type": "code",
   "execution_count": null,
   "id": "48cbaa2b-b863-4a15-8b83-75a321012e86",
   "metadata": {},
   "outputs": [],
   "source": []
  },
  {
   "cell_type": "code",
   "execution_count": 87,
   "id": "27758443-91d0-4245-8136-c089f379aedb",
   "metadata": {},
   "outputs": [],
   "source": [
    "X = features.values\n",
    "y = target_clf"
   ]
  },
  {
   "cell_type": "code",
   "execution_count": null,
   "id": "4bc2989d-5046-4525-928e-50f6c7194d63",
   "metadata": {},
   "outputs": [],
   "source": []
  },
  {
   "cell_type": "code",
   "execution_count": 88,
   "id": "de066b08-461c-4e17-98db-b1a6da21be59",
   "metadata": {},
   "outputs": [],
   "source": [
    "X_train, X_test, y_train, y_test = train_test_split(X, y, test_size=0.21, random_state=42)"
   ]
  },
  {
   "cell_type": "code",
   "execution_count": 89,
   "id": "f94d7a72-51fb-426e-a07d-566caf4ce3a8",
   "metadata": {},
   "outputs": [],
   "source": [
    "scaler = MinMaxScaler()\n",
    "\n",
    "X_train = scaler.fit_transform(X_train)\n",
    "X_test = scaler.fit_transform(X_test)"
   ]
  },
  {
   "cell_type": "code",
   "execution_count": 105,
   "id": "f6c81ef4-efec-4ef2-8b62-0542fd369c8b",
   "metadata": {},
   "outputs": [
    {
     "data": {
      "text/plain": [
       "GradientBoostingClassifier(learning_rate=0.25, max_features=2, n_estimators=20,\n",
       "                           random_state=42)"
      ]
     },
     "execution_count": 105,
     "metadata": {},
     "output_type": "execute_result"
    }
   ],
   "source": [
    "gb_clf = GradientBoostingClassifier(n_estimators=20, learning_rate=0.25,\n",
    "                                    max_features=2, max_depth=3, random_state=42)\n",
    "gb_clf.fit(X_train, y_train.flatten())"
   ]
  },
  {
   "cell_type": "code",
   "execution_count": 106,
   "id": "04a07d6d-27b5-4c50-9af3-eeef7ecad851",
   "metadata": {},
   "outputs": [
    {
     "data": {
      "text/plain": [
       "DecisionTreeClassifier(max_depth=3, min_samples_leaf=5, random_state=42)"
      ]
     },
     "execution_count": 106,
     "metadata": {},
     "output_type": "execute_result"
    }
   ],
   "source": [
    "dt_clf = DecisionTreeClassifier(criterion='gini', random_state=42,\n",
    "                                   max_depth=3, min_samples_leaf = 5)\n",
    "dt_clf.fit(X_train, y_train.flatten())"
   ]
  },
  {
   "cell_type": "code",
   "execution_count": 107,
   "id": "3577bbac-024b-4926-a915-aa02061f0385",
   "metadata": {},
   "outputs": [
    {
     "name": "stdout",
     "output_type": "stream",
     "text": [
      "Learning rate:  0.25\n",
      "Accuracy score (training): 0.726\n",
      "Accuracy score (validation): 0.717\n"
     ]
    }
   ],
   "source": [
    "# gradient boosting\n",
    "print(\"Learning rate: \", 0.25)\n",
    "print(\"Accuracy score (training): {0:.3f}\".format(gb_clf.score(X_train, y_train)))\n",
    "print(\"Accuracy score (validation): {0:.3f}\".format(gb_clf.score(X_test, y_test)))"
   ]
  },
  {
   "cell_type": "code",
   "execution_count": 108,
   "id": "cf94c7d7-18a0-4937-a91e-2c69a1e59310",
   "metadata": {},
   "outputs": [
    {
     "name": "stdout",
     "output_type": "stream",
     "text": [
      "Accuracy score (training): 0.706\n",
      "Accuracy score (validation): 0.703\n"
     ]
    }
   ],
   "source": [
    "# decision tree\n",
    "print(\"Accuracy score (training): {0:.3f}\".format(dt_clf.score(X_train, y_train)))\n",
    "print(\"Accuracy score (validation): {0:.3f}\".format(dt_clf.score(X_test, y_test)))"
   ]
  },
  {
   "cell_type": "code",
   "execution_count": 94,
   "id": "cf042a08-5c11-4983-87ad-e33028c59206",
   "metadata": {},
   "outputs": [],
   "source": [
    "predicted_gb = gb_clf.predict(X_test)\n",
    "predicted_dt = dt_clf.predict(X_test)"
   ]
  },
  {
   "cell_type": "code",
   "execution_count": null,
   "id": "78464448-b37e-40f9-aa10-c76a06595048",
   "metadata": {},
   "outputs": [],
   "source": []
  },
  {
   "cell_type": "code",
   "execution_count": 95,
   "id": "85390502-66f4-451b-b912-b826609dcc74",
   "metadata": {},
   "outputs": [
    {
     "name": "stdout",
     "output_type": "stream",
     "text": [
      "[[702 257]\n",
      " [285 672]]\n",
      "              precision    recall  f1-score   support\n",
      "\n",
      "           0       0.71      0.73      0.72       959\n",
      "           1       0.72      0.70      0.71       957\n",
      "\n",
      "    accuracy                           0.72      1916\n",
      "   macro avg       0.72      0.72      0.72      1916\n",
      "weighted avg       0.72      0.72      0.72      1916\n",
      "\n"
     ]
    }
   ],
   "source": [
    "print(confusion_matrix(y_test, predicted_gb))\n",
    "print(classification_report(y_test, predicted_gb))"
   ]
  },
  {
   "cell_type": "code",
   "execution_count": 96,
   "id": "b148761d-b528-4a35-8e4d-de4fbaf02bf4",
   "metadata": {},
   "outputs": [
    {
     "name": "stdout",
     "output_type": "stream",
     "text": [
      "[[803 156]\n",
      " [414 543]]\n",
      "              precision    recall  f1-score   support\n",
      "\n",
      "           0       0.66      0.84      0.74       959\n",
      "           1       0.78      0.57      0.66       957\n",
      "\n",
      "    accuracy                           0.70      1916\n",
      "   macro avg       0.72      0.70      0.70      1916\n",
      "weighted avg       0.72      0.70      0.70      1916\n",
      "\n"
     ]
    }
   ],
   "source": [
    "print(confusion_matrix(y_test, predicted_dt))\n",
    "print(classification_report(y_test, predicted_dt))"
   ]
  },
  {
   "cell_type": "code",
   "execution_count": null,
   "id": "e694cfa7-36ab-4e11-a0c4-e5aecf505272",
   "metadata": {},
   "outputs": [],
   "source": []
  }
 ],
 "metadata": {
  "kernelspec": {
   "display_name": "Python 3 (ipykernel)",
   "language": "python",
   "name": "python3"
  },
  "language_info": {
   "codemirror_mode": {
    "name": "ipython",
    "version": 3
   },
   "file_extension": ".py",
   "mimetype": "text/x-python",
   "name": "python",
   "nbconvert_exporter": "python",
   "pygments_lexer": "ipython3",
   "version": "3.9.7"
  }
 },
 "nbformat": 4,
 "nbformat_minor": 5
}
