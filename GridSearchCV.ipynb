{
 "cells": [
  {
   "cell_type": "code",
   "execution_count": 3,
   "id": "7d96506b-5703-4006-a9d2-459e3e118d54",
   "metadata": {},
   "outputs": [],
   "source": [
    "import numpy as np\n",
    "import pandas as pd\n",
    "import matplotlib.pyplot as plt\n",
    "\n",
    "from sklearn.model_selection import train_test_split, GridSearchCV\n",
    "from sklearn import metrics\n",
    "from sklearn.preprocessing import MinMaxScaler, RobustScaler, StandardScaler\n",
    "from sklearn.neighbors import KNeighborsClassifier\n",
    "from sklearn.pipeline import Pipeline\n",
    "\n",
    "import seffaflik\n",
    "from seffaflik.elektrik import santraller, tuketim, uretim, yekdem"
   ]
  },
  {
   "cell_type": "code",
   "execution_count": 102,
   "id": "f744745f-8a41-4e48-bf0f-8554cdd550af",
   "metadata": {},
   "outputs": [],
   "source": [
    "df_prod = uretim.gerceklesen(baslangic_tarihi='2020-06-15', bitis_tarihi='2021-06-15')"
   ]
  },
  {
   "cell_type": "code",
   "execution_count": 103,
   "id": "05b9718c-a711-49c5-bc36-8bea180849c0",
   "metadata": {},
   "outputs": [
    {
     "data": {
      "text/html": [
       "<div>\n",
       "<style scoped>\n",
       "    .dataframe tbody tr th:only-of-type {\n",
       "        vertical-align: middle;\n",
       "    }\n",
       "\n",
       "    .dataframe tbody tr th {\n",
       "        vertical-align: top;\n",
       "    }\n",
       "\n",
       "    .dataframe thead th {\n",
       "        text-align: right;\n",
       "    }\n",
       "</style>\n",
       "<table border=\"1\" class=\"dataframe\">\n",
       "  <thead>\n",
       "    <tr style=\"text-align: right;\">\n",
       "      <th></th>\n",
       "      <th>Saat</th>\n",
       "      <th>Doğalgaz</th>\n",
       "      <th>Barajlı</th>\n",
       "      <th>Linyit</th>\n",
       "      <th>Akarsu</th>\n",
       "      <th>İthal Kömür</th>\n",
       "      <th>Rüzgar</th>\n",
       "      <th>Güneş</th>\n",
       "      <th>Fuel Oil</th>\n",
       "      <th>Jeo Termal</th>\n",
       "      <th>Asfaltit Kömür</th>\n",
       "      <th>Taş Kömür</th>\n",
       "      <th>Biyokütle</th>\n",
       "      <th>Nafta</th>\n",
       "      <th>LNG</th>\n",
       "      <th>Uluslararası</th>\n",
       "      <th>Toplam</th>\n",
       "    </tr>\n",
       "  </thead>\n",
       "  <tbody>\n",
       "    <tr>\n",
       "      <th>Saat</th>\n",
       "      <td>1.000000</td>\n",
       "      <td>0.201071</td>\n",
       "      <td>0.561394</td>\n",
       "      <td>0.007661</td>\n",
       "      <td>0.133371</td>\n",
       "      <td>0.054873</td>\n",
       "      <td>0.073144</td>\n",
       "      <td>0.042219</td>\n",
       "      <td>0.117222</td>\n",
       "      <td>-0.209858</td>\n",
       "      <td>0.003916</td>\n",
       "      <td>0.012678</td>\n",
       "      <td>0.010793</td>\n",
       "      <td>NaN</td>\n",
       "      <td>NaN</td>\n",
       "      <td>-0.049643</td>\n",
       "      <td>0.567842</td>\n",
       "    </tr>\n",
       "    <tr>\n",
       "      <th>Doğalgaz</th>\n",
       "      <td>0.201071</td>\n",
       "      <td>1.000000</td>\n",
       "      <td>0.191207</td>\n",
       "      <td>-0.081970</td>\n",
       "      <td>-0.376513</td>\n",
       "      <td>0.174155</td>\n",
       "      <td>-0.227500</td>\n",
       "      <td>-0.003454</td>\n",
       "      <td>0.240215</td>\n",
       "      <td>0.131513</td>\n",
       "      <td>-0.012652</td>\n",
       "      <td>-0.140536</td>\n",
       "      <td>0.043450</td>\n",
       "      <td>NaN</td>\n",
       "      <td>NaN</td>\n",
       "      <td>-0.396569</td>\n",
       "      <td>0.536774</td>\n",
       "    </tr>\n",
       "    <tr>\n",
       "      <th>Barajlı</th>\n",
       "      <td>0.561394</td>\n",
       "      <td>0.191207</td>\n",
       "      <td>1.000000</td>\n",
       "      <td>-0.163227</td>\n",
       "      <td>0.313946</td>\n",
       "      <td>0.076808</td>\n",
       "      <td>-0.172418</td>\n",
       "      <td>0.131216</td>\n",
       "      <td>0.222489</td>\n",
       "      <td>-0.424115</td>\n",
       "      <td>0.121961</td>\n",
       "      <td>0.071240</td>\n",
       "      <td>-0.145486</td>\n",
       "      <td>NaN</td>\n",
       "      <td>NaN</td>\n",
       "      <td>0.003387</td>\n",
       "      <td>0.804888</td>\n",
       "    </tr>\n",
       "    <tr>\n",
       "      <th>Linyit</th>\n",
       "      <td>0.007661</td>\n",
       "      <td>-0.081970</td>\n",
       "      <td>-0.163227</td>\n",
       "      <td>1.000000</td>\n",
       "      <td>0.074770</td>\n",
       "      <td>-0.085679</td>\n",
       "      <td>-0.063367</td>\n",
       "      <td>0.026433</td>\n",
       "      <td>-0.066912</td>\n",
       "      <td>0.167801</td>\n",
       "      <td>-0.122852</td>\n",
       "      <td>-0.054434</td>\n",
       "      <td>0.119636</td>\n",
       "      <td>NaN</td>\n",
       "      <td>NaN</td>\n",
       "      <td>0.016964</td>\n",
       "      <td>-0.098007</td>\n",
       "    </tr>\n",
       "    <tr>\n",
       "      <th>Akarsu</th>\n",
       "      <td>0.133371</td>\n",
       "      <td>-0.376513</td>\n",
       "      <td>0.313946</td>\n",
       "      <td>0.074770</td>\n",
       "      <td>1.000000</td>\n",
       "      <td>-0.621411</td>\n",
       "      <td>0.032058</td>\n",
       "      <td>0.202243</td>\n",
       "      <td>0.102816</td>\n",
       "      <td>0.102177</td>\n",
       "      <td>0.241574</td>\n",
       "      <td>-0.228120</td>\n",
       "      <td>0.462381</td>\n",
       "      <td>NaN</td>\n",
       "      <td>NaN</td>\n",
       "      <td>0.113804</td>\n",
       "      <td>0.083176</td>\n",
       "    </tr>\n",
       "    <tr>\n",
       "      <th>İthal Kömür</th>\n",
       "      <td>0.054873</td>\n",
       "      <td>0.174155</td>\n",
       "      <td>0.076808</td>\n",
       "      <td>-0.085679</td>\n",
       "      <td>-0.621411</td>\n",
       "      <td>1.000000</td>\n",
       "      <td>0.044849</td>\n",
       "      <td>-0.328325</td>\n",
       "      <td>-0.129125</td>\n",
       "      <td>-0.346088</td>\n",
       "      <td>-0.215079</td>\n",
       "      <td>0.317746</td>\n",
       "      <td>-0.684557</td>\n",
       "      <td>NaN</td>\n",
       "      <td>NaN</td>\n",
       "      <td>0.084135</td>\n",
       "      <td>0.307584</td>\n",
       "    </tr>\n",
       "    <tr>\n",
       "      <th>Rüzgar</th>\n",
       "      <td>0.073144</td>\n",
       "      <td>-0.227500</td>\n",
       "      <td>-0.172418</td>\n",
       "      <td>-0.063367</td>\n",
       "      <td>0.032058</td>\n",
       "      <td>0.044849</td>\n",
       "      <td>1.000000</td>\n",
       "      <td>-0.110661</td>\n",
       "      <td>-0.061754</td>\n",
       "      <td>0.012349</td>\n",
       "      <td>-0.000024</td>\n",
       "      <td>-0.044665</td>\n",
       "      <td>0.022497</td>\n",
       "      <td>NaN</td>\n",
       "      <td>NaN</td>\n",
       "      <td>0.001005</td>\n",
       "      <td>0.148478</td>\n",
       "    </tr>\n",
       "    <tr>\n",
       "      <th>Güneş</th>\n",
       "      <td>0.042219</td>\n",
       "      <td>-0.003454</td>\n",
       "      <td>0.131216</td>\n",
       "      <td>0.026433</td>\n",
       "      <td>0.202243</td>\n",
       "      <td>-0.328325</td>\n",
       "      <td>-0.110661</td>\n",
       "      <td>1.000000</td>\n",
       "      <td>0.132021</td>\n",
       "      <td>-0.049225</td>\n",
       "      <td>0.116183</td>\n",
       "      <td>-0.165623</td>\n",
       "      <td>0.302364</td>\n",
       "      <td>NaN</td>\n",
       "      <td>NaN</td>\n",
       "      <td>-0.039634</td>\n",
       "      <td>0.021913</td>\n",
       "    </tr>\n",
       "    <tr>\n",
       "      <th>Fuel Oil</th>\n",
       "      <td>0.117222</td>\n",
       "      <td>0.240215</td>\n",
       "      <td>0.222489</td>\n",
       "      <td>-0.066912</td>\n",
       "      <td>0.102816</td>\n",
       "      <td>-0.129125</td>\n",
       "      <td>-0.061754</td>\n",
       "      <td>0.132021</td>\n",
       "      <td>1.000000</td>\n",
       "      <td>-0.113320</td>\n",
       "      <td>0.256227</td>\n",
       "      <td>-0.034232</td>\n",
       "      <td>0.185387</td>\n",
       "      <td>NaN</td>\n",
       "      <td>NaN</td>\n",
       "      <td>-0.027137</td>\n",
       "      <td>0.245587</td>\n",
       "    </tr>\n",
       "    <tr>\n",
       "      <th>Jeo Termal</th>\n",
       "      <td>-0.209858</td>\n",
       "      <td>0.131513</td>\n",
       "      <td>-0.424115</td>\n",
       "      <td>0.167801</td>\n",
       "      <td>0.102177</td>\n",
       "      <td>-0.346088</td>\n",
       "      <td>0.012349</td>\n",
       "      <td>-0.049225</td>\n",
       "      <td>-0.113320</td>\n",
       "      <td>1.000000</td>\n",
       "      <td>-0.157442</td>\n",
       "      <td>-0.431046</td>\n",
       "      <td>0.680237</td>\n",
       "      <td>NaN</td>\n",
       "      <td>NaN</td>\n",
       "      <td>-0.354364</td>\n",
       "      <td>-0.278840</td>\n",
       "    </tr>\n",
       "    <tr>\n",
       "      <th>Asfaltit Kömür</th>\n",
       "      <td>0.003916</td>\n",
       "      <td>-0.012652</td>\n",
       "      <td>0.121961</td>\n",
       "      <td>-0.122852</td>\n",
       "      <td>0.241574</td>\n",
       "      <td>-0.215079</td>\n",
       "      <td>-0.000024</td>\n",
       "      <td>0.116183</td>\n",
       "      <td>0.256227</td>\n",
       "      <td>-0.157442</td>\n",
       "      <td>1.000000</td>\n",
       "      <td>-0.035244</td>\n",
       "      <td>0.148889</td>\n",
       "      <td>NaN</td>\n",
       "      <td>NaN</td>\n",
       "      <td>0.061319</td>\n",
       "      <td>0.073471</td>\n",
       "    </tr>\n",
       "    <tr>\n",
       "      <th>Taş Kömür</th>\n",
       "      <td>0.012678</td>\n",
       "      <td>-0.140536</td>\n",
       "      <td>0.071240</td>\n",
       "      <td>-0.054434</td>\n",
       "      <td>-0.228120</td>\n",
       "      <td>0.317746</td>\n",
       "      <td>-0.044665</td>\n",
       "      <td>-0.165623</td>\n",
       "      <td>-0.034232</td>\n",
       "      <td>-0.431046</td>\n",
       "      <td>-0.035244</td>\n",
       "      <td>1.000000</td>\n",
       "      <td>-0.528845</td>\n",
       "      <td>NaN</td>\n",
       "      <td>NaN</td>\n",
       "      <td>0.160124</td>\n",
       "      <td>-0.000014</td>\n",
       "    </tr>\n",
       "    <tr>\n",
       "      <th>Biyokütle</th>\n",
       "      <td>0.010793</td>\n",
       "      <td>0.043450</td>\n",
       "      <td>-0.145486</td>\n",
       "      <td>0.119636</td>\n",
       "      <td>0.462381</td>\n",
       "      <td>-0.684557</td>\n",
       "      <td>0.022497</td>\n",
       "      <td>0.302364</td>\n",
       "      <td>0.185387</td>\n",
       "      <td>0.680237</td>\n",
       "      <td>0.148889</td>\n",
       "      <td>-0.528845</td>\n",
       "      <td>1.000000</td>\n",
       "      <td>NaN</td>\n",
       "      <td>NaN</td>\n",
       "      <td>-0.196621</td>\n",
       "      <td>-0.140881</td>\n",
       "    </tr>\n",
       "    <tr>\n",
       "      <th>Nafta</th>\n",
       "      <td>NaN</td>\n",
       "      <td>NaN</td>\n",
       "      <td>NaN</td>\n",
       "      <td>NaN</td>\n",
       "      <td>NaN</td>\n",
       "      <td>NaN</td>\n",
       "      <td>NaN</td>\n",
       "      <td>NaN</td>\n",
       "      <td>NaN</td>\n",
       "      <td>NaN</td>\n",
       "      <td>NaN</td>\n",
       "      <td>NaN</td>\n",
       "      <td>NaN</td>\n",
       "      <td>NaN</td>\n",
       "      <td>NaN</td>\n",
       "      <td>NaN</td>\n",
       "      <td>NaN</td>\n",
       "    </tr>\n",
       "    <tr>\n",
       "      <th>LNG</th>\n",
       "      <td>NaN</td>\n",
       "      <td>NaN</td>\n",
       "      <td>NaN</td>\n",
       "      <td>NaN</td>\n",
       "      <td>NaN</td>\n",
       "      <td>NaN</td>\n",
       "      <td>NaN</td>\n",
       "      <td>NaN</td>\n",
       "      <td>NaN</td>\n",
       "      <td>NaN</td>\n",
       "      <td>NaN</td>\n",
       "      <td>NaN</td>\n",
       "      <td>NaN</td>\n",
       "      <td>NaN</td>\n",
       "      <td>NaN</td>\n",
       "      <td>NaN</td>\n",
       "      <td>NaN</td>\n",
       "    </tr>\n",
       "    <tr>\n",
       "      <th>Uluslararası</th>\n",
       "      <td>-0.049643</td>\n",
       "      <td>-0.396569</td>\n",
       "      <td>0.003387</td>\n",
       "      <td>0.016964</td>\n",
       "      <td>0.113804</td>\n",
       "      <td>0.084135</td>\n",
       "      <td>0.001005</td>\n",
       "      <td>-0.039634</td>\n",
       "      <td>-0.027137</td>\n",
       "      <td>-0.354364</td>\n",
       "      <td>0.061319</td>\n",
       "      <td>0.160124</td>\n",
       "      <td>-0.196621</td>\n",
       "      <td>NaN</td>\n",
       "      <td>NaN</td>\n",
       "      <td>1.000000</td>\n",
       "      <td>-0.116358</td>\n",
       "    </tr>\n",
       "    <tr>\n",
       "      <th>Toplam</th>\n",
       "      <td>0.567842</td>\n",
       "      <td>0.536774</td>\n",
       "      <td>0.804888</td>\n",
       "      <td>-0.098007</td>\n",
       "      <td>0.083176</td>\n",
       "      <td>0.307584</td>\n",
       "      <td>0.148478</td>\n",
       "      <td>0.021913</td>\n",
       "      <td>0.245587</td>\n",
       "      <td>-0.278840</td>\n",
       "      <td>0.073471</td>\n",
       "      <td>-0.000014</td>\n",
       "      <td>-0.140881</td>\n",
       "      <td>NaN</td>\n",
       "      <td>NaN</td>\n",
       "      <td>-0.116358</td>\n",
       "      <td>1.000000</td>\n",
       "    </tr>\n",
       "  </tbody>\n",
       "</table>\n",
       "</div>"
      ],
      "text/plain": [
       "                    Saat  Doğalgaz   Barajlı    Linyit    Akarsu  İthal Kömür  \\\n",
       "Saat            1.000000  0.201071  0.561394  0.007661  0.133371     0.054873   \n",
       "Doğalgaz        0.201071  1.000000  0.191207 -0.081970 -0.376513     0.174155   \n",
       "Barajlı         0.561394  0.191207  1.000000 -0.163227  0.313946     0.076808   \n",
       "Linyit          0.007661 -0.081970 -0.163227  1.000000  0.074770    -0.085679   \n",
       "Akarsu          0.133371 -0.376513  0.313946  0.074770  1.000000    -0.621411   \n",
       "İthal Kömür     0.054873  0.174155  0.076808 -0.085679 -0.621411     1.000000   \n",
       "Rüzgar          0.073144 -0.227500 -0.172418 -0.063367  0.032058     0.044849   \n",
       "Güneş           0.042219 -0.003454  0.131216  0.026433  0.202243    -0.328325   \n",
       "Fuel Oil        0.117222  0.240215  0.222489 -0.066912  0.102816    -0.129125   \n",
       "Jeo Termal     -0.209858  0.131513 -0.424115  0.167801  0.102177    -0.346088   \n",
       "Asfaltit Kömür  0.003916 -0.012652  0.121961 -0.122852  0.241574    -0.215079   \n",
       "Taş Kömür       0.012678 -0.140536  0.071240 -0.054434 -0.228120     0.317746   \n",
       "Biyokütle       0.010793  0.043450 -0.145486  0.119636  0.462381    -0.684557   \n",
       "Nafta                NaN       NaN       NaN       NaN       NaN          NaN   \n",
       "LNG                  NaN       NaN       NaN       NaN       NaN          NaN   \n",
       "Uluslararası   -0.049643 -0.396569  0.003387  0.016964  0.113804     0.084135   \n",
       "Toplam          0.567842  0.536774  0.804888 -0.098007  0.083176     0.307584   \n",
       "\n",
       "                  Rüzgar     Güneş  Fuel Oil  Jeo Termal  Asfaltit Kömür  \\\n",
       "Saat            0.073144  0.042219  0.117222   -0.209858        0.003916   \n",
       "Doğalgaz       -0.227500 -0.003454  0.240215    0.131513       -0.012652   \n",
       "Barajlı        -0.172418  0.131216  0.222489   -0.424115        0.121961   \n",
       "Linyit         -0.063367  0.026433 -0.066912    0.167801       -0.122852   \n",
       "Akarsu          0.032058  0.202243  0.102816    0.102177        0.241574   \n",
       "İthal Kömür     0.044849 -0.328325 -0.129125   -0.346088       -0.215079   \n",
       "Rüzgar          1.000000 -0.110661 -0.061754    0.012349       -0.000024   \n",
       "Güneş          -0.110661  1.000000  0.132021   -0.049225        0.116183   \n",
       "Fuel Oil       -0.061754  0.132021  1.000000   -0.113320        0.256227   \n",
       "Jeo Termal      0.012349 -0.049225 -0.113320    1.000000       -0.157442   \n",
       "Asfaltit Kömür -0.000024  0.116183  0.256227   -0.157442        1.000000   \n",
       "Taş Kömür      -0.044665 -0.165623 -0.034232   -0.431046       -0.035244   \n",
       "Biyokütle       0.022497  0.302364  0.185387    0.680237        0.148889   \n",
       "Nafta                NaN       NaN       NaN         NaN             NaN   \n",
       "LNG                  NaN       NaN       NaN         NaN             NaN   \n",
       "Uluslararası    0.001005 -0.039634 -0.027137   -0.354364        0.061319   \n",
       "Toplam          0.148478  0.021913  0.245587   -0.278840        0.073471   \n",
       "\n",
       "                Taş Kömür  Biyokütle  Nafta  LNG  Uluslararası    Toplam  \n",
       "Saat             0.012678   0.010793    NaN  NaN     -0.049643  0.567842  \n",
       "Doğalgaz        -0.140536   0.043450    NaN  NaN     -0.396569  0.536774  \n",
       "Barajlı          0.071240  -0.145486    NaN  NaN      0.003387  0.804888  \n",
       "Linyit          -0.054434   0.119636    NaN  NaN      0.016964 -0.098007  \n",
       "Akarsu          -0.228120   0.462381    NaN  NaN      0.113804  0.083176  \n",
       "İthal Kömür      0.317746  -0.684557    NaN  NaN      0.084135  0.307584  \n",
       "Rüzgar          -0.044665   0.022497    NaN  NaN      0.001005  0.148478  \n",
       "Güneş           -0.165623   0.302364    NaN  NaN     -0.039634  0.021913  \n",
       "Fuel Oil        -0.034232   0.185387    NaN  NaN     -0.027137  0.245587  \n",
       "Jeo Termal      -0.431046   0.680237    NaN  NaN     -0.354364 -0.278840  \n",
       "Asfaltit Kömür  -0.035244   0.148889    NaN  NaN      0.061319  0.073471  \n",
       "Taş Kömür        1.000000  -0.528845    NaN  NaN      0.160124 -0.000014  \n",
       "Biyokütle       -0.528845   1.000000    NaN  NaN     -0.196621 -0.140881  \n",
       "Nafta                 NaN        NaN    NaN  NaN           NaN       NaN  \n",
       "LNG                   NaN        NaN    NaN  NaN           NaN       NaN  \n",
       "Uluslararası     0.160124  -0.196621    NaN  NaN      1.000000 -0.116358  \n",
       "Toplam          -0.000014  -0.140881    NaN  NaN     -0.116358  1.000000  "
      ]
     },
     "execution_count": 103,
     "metadata": {},
     "output_type": "execute_result"
    }
   ],
   "source": [
    "df_prod.corr()"
   ]
  },
  {
   "cell_type": "code",
   "execution_count": 104,
   "id": "76e60822-d588-46ac-8487-410388bae9b7",
   "metadata": {},
   "outputs": [],
   "source": [
    "df_prod.drop(columns=['Nafta', 'LNG', 'Saat', 'Tarih', 'Uluslararası'], inplace=True)"
   ]
  },
  {
   "cell_type": "code",
   "execution_count": null,
   "id": "ec7d0e15-c707-4963-a09b-cffa50e0e575",
   "metadata": {},
   "outputs": [],
   "source": []
  },
  {
   "cell_type": "code",
   "execution_count": 105,
   "id": "2f1f9de4-b1e3-4574-a14f-7f424dbb3c9b",
   "metadata": {},
   "outputs": [],
   "source": [
    "features_list = [col for col in df_prod.columns if col!='Toplam']\n",
    "\n",
    "features = df_prod[features_list].values\n",
    "target = df_prod['Toplam'].values"
   ]
  },
  {
   "cell_type": "code",
   "execution_count": 107,
   "id": "066c15dd-819a-468d-ba64-e5fcf4824a76",
   "metadata": {},
   "outputs": [],
   "source": [
    "min_val = np.min(target)\n",
    "lower_quantile = np.quantile(target, 0.25)\n",
    "median = np.quantile(target, 0.25)\n",
    "upper_quantile = np.quantile(target, 0.75)\n",
    "max_val = np.max(target)"
   ]
  },
  {
   "cell_type": "code",
   "execution_count": 129,
   "id": "46424f5f-1591-49c7-bf35-cdba88949069",
   "metadata": {},
   "outputs": [],
   "source": [
    "target_conditions  = [ (target >= min_val) & (target  <= median),  \n",
    "                      (target  > median) & (target  <= max_val),]\n",
    "target_choices     = [0, 1,]"
   ]
  },
  {
   "cell_type": "code",
   "execution_count": 130,
   "id": "ebb0251a-e34a-4e7a-b6c6-e5066ea3e008",
   "metadata": {},
   "outputs": [],
   "source": [
    "target_clf  = np.select(target_conditions, target_choices, default=np.nan)"
   ]
  },
  {
   "cell_type": "code",
   "execution_count": 131,
   "id": "f35fcdfe-834f-4d21-86a7-65a62734606d",
   "metadata": {},
   "outputs": [
    {
     "data": {
      "text/plain": [
       "(array([2196.,    0.,    0.,    0.,    0.,    0.,    0.,    0.,    0.,\n",
       "        6588.]),\n",
       " array([0. , 0.1, 0.2, 0.3, 0.4, 0.5, 0.6, 0.7, 0.8, 0.9, 1. ]),\n",
       " <BarContainer object of 10 artists>)"
      ]
     },
     "execution_count": 131,
     "metadata": {},
     "output_type": "execute_result"
    },
    {
     "data": {
      "image/png": "[encoded data removed]",
      "text/plain": [
       "<Figure size 432x288 with 1 Axes>"
      ]
     },
     "metadata": {
      "needs_background": "light"
     },
     "output_type": "display_data"
    }
   ],
   "source": [
    "plt.hist(target_clf)"
   ]
  },
  {
   "cell_type": "code",
   "execution_count": 132,
   "id": "4dbcad82-2868-42b9-9fcb-76a63d45ff13",
   "metadata": {},
   "outputs": [],
   "source": [
    "X = features\n",
    "y = target_clf"
   ]
  },
  {
   "cell_type": "code",
   "execution_count": 133,
   "id": "3f724e7c-2d5f-4421-acbd-e48828b7d646",
   "metadata": {},
   "outputs": [
    {
     "data": {
      "text/plain": [
       "0.0"
      ]
     },
     "execution_count": 133,
     "metadata": {},
     "output_type": "execute_result"
    }
   ],
   "source": [
    "X_train.min()"
   ]
  },
  {
   "cell_type": "code",
   "execution_count": 134,
   "id": "59e25413-0972-4e72-a058-6be0eb0ecee1",
   "metadata": {},
   "outputs": [],
   "source": [
    "X_train, X_test, y_train, y_test = train_test_split(X, y, test_size=0.25, random_state=21)"
   ]
  },
  {
   "cell_type": "code",
   "execution_count": 135,
   "id": "6c7bd841-49df-480a-bce1-87866f0d8d1a",
   "metadata": {},
   "outputs": [
    {
     "data": {
      "text/plain": [
       "dict_keys(['memory', 'steps', 'verbose', 'mms', 'knn', 'mms__clip', 'mms__copy', 'mms__feature_range', 'knn__algorithm', 'knn__leaf_size', 'knn__metric', 'knn__metric_params', 'knn__n_jobs', 'knn__n_neighbors', 'knn__p', 'knn__weights'])"
      ]
     },
     "execution_count": 135,
     "metadata": {},
     "output_type": "execute_result"
    }
   ],
   "source": [
    "knn_pipe.get_params().keys()"
   ]
  },
  {
   "cell_type": "code",
   "execution_count": null,
   "id": "ae0e7397-95f2-4b4e-bd8d-3ce1b36df914",
   "metadata": {},
   "outputs": [],
   "source": []
  },
  {
   "cell_type": "code",
   "execution_count": 136,
   "id": "81a32979-97d5-4e3c-a1c5-d7fc46b0ffcf",
   "metadata": {},
   "outputs": [
    {
     "data": {
      "text/plain": [
       "GridSearchCV(cv=5,\n",
       "             estimator=Pipeline(steps=[('mms', MinMaxScaler()),\n",
       "                                       ('knn', KNeighborsClassifier())]),\n",
       "             param_grid=[{'knn__leaf_size': [15, 20],\n",
       "                          'knn__n_neighbors': [3, 5, 7, 9],\n",
       "                          'knn__weights': ['uniform', 'distance']}],\n",
       "             scoring='precision')"
      ]
     },
     "execution_count": 136,
     "metadata": {},
     "output_type": "execute_result"
    }
   ],
   "source": [
    "knn_pipe = Pipeline([('mms', MinMaxScaler()),\n",
    "                    ('knn', KNeighborsClassifier())])\n",
    "\n",
    "params = [{'knn__n_neighbors': [3,5,7,9],\n",
    "           'knn__weights': ['uniform', 'distance'],\n",
    "           'knn__leaf_size': [15,20]}]\n",
    "\n",
    "gs_knn = GridSearchCV(knn_pipe,\n",
    "                      param_grid=params,\n",
    "                      scoring='precision',\n",
    "                      cv=5)\n",
    "\n",
    "gs_knn.fit(X_train, y_train)"
   ]
  },
  {
   "cell_type": "code",
   "execution_count": 137,
   "id": "ef64aa65-b155-4ed4-804a-89b35f302d75",
   "metadata": {},
   "outputs": [
    {
     "data": {
      "text/plain": [
       "{'knn__leaf_size': 15, 'knn__n_neighbors': 9, 'knn__weights': 'distance'}"
      ]
     },
     "execution_count": 137,
     "metadata": {},
     "output_type": "execute_result"
    }
   ],
   "source": [
    "gs_knn.best_params_"
   ]
  },
  {
   "cell_type": "code",
   "execution_count": 138,
   "id": "d715c1c6-3623-4abd-95b4-fc358b314cfc",
   "metadata": {},
   "outputs": [
    {
     "data": {
      "text/plain": [
       "0.9662714774497074"
      ]
     },
     "execution_count": 138,
     "metadata": {},
     "output_type": "execute_result"
    }
   ],
   "source": [
    "gs_knn.best_score_"
   ]
  },
  {
   "cell_type": "code",
   "execution_count": 139,
   "id": "65a68440-d376-4e85-8a46-b1f9197e1408",
   "metadata": {},
   "outputs": [],
   "source": [
    "prediction = gs_knn.predict(X_test)"
   ]
  },
  {
   "cell_type": "code",
   "execution_count": 140,
   "id": "98ea9822-6273-4b9d-8d8c-554c9ac9486a",
   "metadata": {},
   "outputs": [
    {
     "data": {
      "text/plain": [
       "array([[ 471,   58],\n",
       "       [  76, 1591]])"
      ]
     },
     "execution_count": 140,
     "metadata": {},
     "output_type": "execute_result"
    }
   ],
   "source": [
    "metrics.confusion_matrix(y_test, prediction)"
   ]
  },
  {
   "cell_type": "code",
   "execution_count": 141,
   "id": "1d12a695-a5eb-4990-8d40-7b86fcdeae5a",
   "metadata": {},
   "outputs": [
    {
     "name": "stdout",
     "output_type": "stream",
     "text": [
      "              precision    recall  f1-score   support\n",
      "\n",
      "         0.0       0.86      0.89      0.88       529\n",
      "         1.0       0.96      0.95      0.96      1667\n",
      "\n",
      "    accuracy                           0.94      2196\n",
      "   macro avg       0.91      0.92      0.92      2196\n",
      "weighted avg       0.94      0.94      0.94      2196\n",
      "\n"
     ]
    }
   ],
   "source": [
    "print(metrics.classification_report(y_test, prediction))"
   ]
  },
  {
   "cell_type": "code",
   "execution_count": 142,
   "id": "aa649576-6165-4d4c-898c-20aad4ed5d1e",
   "metadata": {},
   "outputs": [
    {
     "data": {
      "text/plain": [
       "(array([ 529.,    0.,    0.,    0.,    0.,    0.,    0.,    0.,    0.,\n",
       "        1667.]),\n",
       " array([0. , 0.1, 0.2, 0.3, 0.4, 0.5, 0.6, 0.7, 0.8, 0.9, 1. ]),\n",
       " <BarContainer object of 10 artists>)"
      ]
     },
     "execution_count": 142,
     "metadata": {},
     "output_type": "execute_result"
    },
    {
     "data": {
      "image/png": "[encoded data removed]",
      "text/plain": [
       "<Figure size 432x288 with 1 Axes>"
      ]
     },
     "metadata": {
      "needs_background": "light"
     },
     "output_type": "display_data"
    }
   ],
   "source": [
    "plt.hist(y_test)"
   ]
  },
  {
   "cell_type": "code",
   "execution_count": 143,
   "id": "709fd33b-140d-41fd-b873-ad5b07e873f7",
   "metadata": {},
   "outputs": [
    {
     "data": {
      "text/plain": [
       "(array([2196.,    0.,    0.,    0.,    0.,    0.,    0.,    0.,    0.,\n",
       "        6588.]),\n",
       " array([0. , 0.1, 0.2, 0.3, 0.4, 0.5, 0.6, 0.7, 0.8, 0.9, 1. ]),\n",
       " <BarContainer object of 10 artists>)"
      ]
     },
     "execution_count": 143,
     "metadata": {},
     "output_type": "execute_result"
    },
    {
     "data": {
      "image/png": "[encoded data removed]",
      "text/plain": [
       "<Figure size 432x288 with 1 Axes>"
      ]
     },
     "metadata": {
      "needs_background": "light"
     },
     "output_type": "display_data"
    }
   ],
   "source": [
    "plt.hist(y)"
   ]
  },
  {
   "cell_type": "code",
   "execution_count": null,
   "id": "e3db8228-39f7-45c7-baae-ce04fd547cf6",
   "metadata": {},
   "outputs": [],
   "source": []
  }
 ],
 "metadata": {
  "kernelspec": {
   "display_name": "Python 3 (ipykernel)",
   "language": "python",
   "name": "python3"
  },
  "language_info": {
   "codemirror_mode": {
    "name": "ipython",
    "version": 3
   },
   "file_extension": ".py",
   "mimetype": "text/x-python",
   "name": "python",
   "nbconvert_exporter": "python",
   "pygments_lexer": "ipython3",
   "version": "3.9.7"
  }
 },
 "nbformat": 4,
 "nbformat_minor": 5
}
