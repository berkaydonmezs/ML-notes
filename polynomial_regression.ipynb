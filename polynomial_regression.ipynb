{
 "cells": [
  {
   "cell_type": "code",
   "execution_count": 6,
   "id": "215f7c5b-4c33-4d55-a69e-eb64431270b8",
   "metadata": {},
   "outputs": [],
   "source": [
    "from sklearn import metrics\n",
    "from sklearn.preprocessing import PolynomialFeatures, MinMaxScaler, StandardScaler, RobustScaler\n",
    "from sklearn.model_selection import train_test_split\n",
    "from sklearn.linear_model import LinearRegression\n",
    "from sklearn.pipeline import make_pipeline\n",
    "\n",
    "import pandas as pd\n",
    "import numpy as np\n",
    "import matplotlib.pyplot as plt\n",
    "%matplotlib inline\n",
    "\n",
    "import seffaflik\n",
    "from seffaflik.elektrik import uretim"
   ]
  },
  {
   "cell_type": "code",
   "execution_count": null,
   "id": "d95dbd03-b28d-4df9-a493-418a2aa457c2",
   "metadata": {},
   "outputs": [],
   "source": []
  },
  {
   "cell_type": "code",
   "execution_count": 7,
   "id": "247fa70d-024f-4ad0-838a-e7f83765aeb6",
   "metadata": {},
   "outputs": [
    {
     "data": {
      "text/plain": [
       "<seffaflik._kimlik.Kimlik at 0x7f23e7a57340>"
      ]
     },
     "execution_count": 7,
     "metadata": {},
     "output_type": "execute_result"
    }
   ],
   "source": [
    "seffaflik.Kimlik(istemci_taniticisi=\"berkay\")"
   ]
  },
  {
   "cell_type": "code",
   "execution_count": 15,
   "id": "c471af6c-3199-4d4d-b109-b4add1e6ce5d",
   "metadata": {},
   "outputs": [],
   "source": [
    "vars_to_use = ['Doğalgaz', 'Toplam']"
   ]
  },
  {
   "cell_type": "code",
   "execution_count": 10,
   "id": "4bfb9ca4-669a-46c8-b5d9-16207d12b3e6",
   "metadata": {},
   "outputs": [],
   "source": [
    "df = uretim.gerceklesen(baslangic_tarihi='2021-06-01', bitis_tarihi='2021-06-15')"
   ]
  },
  {
   "cell_type": "code",
   "execution_count": 11,
   "id": "bde4ccd5-1080-49db-a954-e3d101e10f40",
   "metadata": {},
   "outputs": [
    {
     "data": {
      "text/plain": [
       "Index(['Tarih', 'Saat', 'Doğalgaz', 'Barajlı', 'Linyit', 'Akarsu',\n",
       "       'İthal Kömür', 'Rüzgar', 'Güneş', 'Fuel Oil', 'Jeo Termal',\n",
       "       'Asfaltit Kömür', 'Taş Kömür', 'Biyokütle', 'Nafta', 'LNG',\n",
       "       'Uluslararası', 'Toplam'],\n",
       "      dtype='object')"
      ]
     },
     "execution_count": 11,
     "metadata": {},
     "output_type": "execute_result"
    }
   ],
   "source": [
    "df.columns"
   ]
  },
  {
   "cell_type": "code",
   "execution_count": 16,
   "id": "662df79f-ccf6-432a-bbab-571fa142d530",
   "metadata": {},
   "outputs": [],
   "source": [
    "df_set = df[vars_to_use]\n",
    "df_set = df_set.rename(columns={'Doğalgaz':'natural gas production',\n",
    "                                'Toplam':'total production'})"
   ]
  },
  {
   "cell_type": "code",
   "execution_count": 17,
   "id": "6609514b-549e-4432-80df-e4b056fd420d",
   "metadata": {},
   "outputs": [
    {
     "data": {
      "text/html": [
       "<div>\n",
       "<style scoped>\n",
       "    .dataframe tbody tr th:only-of-type {\n",
       "        vertical-align: middle;\n",
       "    }\n",
       "\n",
       "    .dataframe tbody tr th {\n",
       "        vertical-align: top;\n",
       "    }\n",
       "\n",
       "    .dataframe thead th {\n",
       "        text-align: right;\n",
       "    }\n",
       "</style>\n",
       "<table border=\"1\" class=\"dataframe\">\n",
       "  <thead>\n",
       "    <tr style=\"text-align: right;\">\n",
       "      <th></th>\n",
       "      <th>natural gas production</th>\n",
       "      <th>total production</th>\n",
       "    </tr>\n",
       "  </thead>\n",
       "  <tbody>\n",
       "    <tr>\n",
       "      <th>0</th>\n",
       "      <td>12671.91</td>\n",
       "      <td>33292.52</td>\n",
       "    </tr>\n",
       "    <tr>\n",
       "      <th>1</th>\n",
       "      <td>12308.50</td>\n",
       "      <td>31811.94</td>\n",
       "    </tr>\n",
       "  </tbody>\n",
       "</table>\n",
       "</div>"
      ],
      "text/plain": [
       "   natural gas production  total production\n",
       "0                12671.91          33292.52\n",
       "1                12308.50          31811.94"
      ]
     },
     "execution_count": 17,
     "metadata": {},
     "output_type": "execute_result"
    }
   ],
   "source": [
    "df_set.head(2)"
   ]
  },
  {
   "cell_type": "code",
   "execution_count": 20,
   "id": "3583c72a-58d9-470b-9233-27932de3534b",
   "metadata": {},
   "outputs": [
    {
     "data": {
      "text/plain": [
       "<AxesSubplot:xlabel='natural gas production', ylabel='total production'>"
      ]
     },
     "execution_count": 20,
     "metadata": {},
     "output_type": "execute_result"
    },
    {
     "data": {
      "image/png": "[encoded data removed]",
      "text/plain": [
       "<Figure size 432x288 with 1 Axes>"
      ]
     },
     "metadata": {
      "needs_background": "light"
     },
     "output_type": "display_data"
    }
   ],
   "source": [
    "df_set.plot(kind='scatter', x='natural gas production', y='total production')"
   ]
  },
  {
   "cell_type": "code",
   "execution_count": 21,
   "id": "2d0bdef8-0a14-477f-88d5-8d89452ffbf0",
   "metadata": {},
   "outputs": [
    {
     "data": {
      "text/html": [
       "<div>\n",
       "<style scoped>\n",
       "    .dataframe tbody tr th:only-of-type {\n",
       "        vertical-align: middle;\n",
       "    }\n",
       "\n",
       "    .dataframe tbody tr th {\n",
       "        vertical-align: top;\n",
       "    }\n",
       "\n",
       "    .dataframe thead th {\n",
       "        text-align: right;\n",
       "    }\n",
       "</style>\n",
       "<table border=\"1\" class=\"dataframe\">\n",
       "  <thead>\n",
       "    <tr style=\"text-align: right;\">\n",
       "      <th></th>\n",
       "      <th>natural gas production</th>\n",
       "      <th>total production</th>\n",
       "    </tr>\n",
       "  </thead>\n",
       "  <tbody>\n",
       "    <tr>\n",
       "      <th>natural gas production</th>\n",
       "      <td>1.00000</td>\n",
       "      <td>0.70928</td>\n",
       "    </tr>\n",
       "    <tr>\n",
       "      <th>total production</th>\n",
       "      <td>0.70928</td>\n",
       "      <td>1.00000</td>\n",
       "    </tr>\n",
       "  </tbody>\n",
       "</table>\n",
       "</div>"
      ],
      "text/plain": [
       "                        natural gas production  total production\n",
       "natural gas production                 1.00000           0.70928\n",
       "total production                       0.70928           1.00000"
      ]
     },
     "execution_count": 21,
     "metadata": {},
     "output_type": "execute_result"
    }
   ],
   "source": [
    "df_set.corr()"
   ]
  },
  {
   "cell_type": "code",
   "execution_count": 22,
   "id": "cb165820-2059-4056-b8ca-d25a4de8b87f",
   "metadata": {},
   "outputs": [],
   "source": [
    "scaler = MinMaxScaler()\n",
    "df_norm = scaler.fit_transform(df_set)"
   ]
  },
  {
   "cell_type": "code",
   "execution_count": 28,
   "id": "a20e216c-c15b-4ce7-a248-f29eaef515e4",
   "metadata": {},
   "outputs": [
    {
     "data": {
      "text/plain": [
       "Index(['natural gas production', 'total production'], dtype='object')"
      ]
     },
     "execution_count": 28,
     "metadata": {},
     "output_type": "execute_result"
    }
   ],
   "source": [
    "df_set.columns"
   ]
  },
  {
   "cell_type": "code",
   "execution_count": 29,
   "id": "fe356bea-b13b-4f02-90b6-42fb708aaab1",
   "metadata": {},
   "outputs": [],
   "source": [
    "X = df_norm[:,0].reshape(-1,1)\n",
    "y = df_norm[:,1].reshape(-1,1)"
   ]
  },
  {
   "cell_type": "code",
   "execution_count": 32,
   "id": "14df9425-17cf-4d0b-b1de-b0c4a0586985",
   "metadata": {},
   "outputs": [],
   "source": [
    "X_train, X_test, y_train, y_test = train_test_split(X, y, test_size=0.22, random_state=42)"
   ]
  },
  {
   "cell_type": "code",
   "execution_count": 68,
   "id": "4b1bc876-7e6b-4a7c-841e-4fcc47acb0b9",
   "metadata": {},
   "outputs": [],
   "source": [
    "# degree 1 of polynomial might equal linear line\n",
    "polyreg = make_pipeline(PolynomialFeatures(degree=1), LinearRegression())"
   ]
  },
  {
   "cell_type": "code",
   "execution_count": 69,
   "id": "0967d25f-1dda-4e61-8a68-d93c7776ddd0",
   "metadata": {},
   "outputs": [
    {
     "data": {
      "text/plain": [
       "Pipeline(steps=[('polynomialfeatures', PolynomialFeatures(degree=1)),\n",
       "                ('linearregression', LinearRegression())])"
      ]
     },
     "execution_count": 69,
     "metadata": {},
     "output_type": "execute_result"
    }
   ],
   "source": [
    "polyreg.fit(X_train, y_train)"
   ]
  },
  {
   "cell_type": "code",
   "execution_count": 70,
   "id": "dd1d691f-e3bf-4f30-8827-efd29bca579e",
   "metadata": {},
   "outputs": [],
   "source": [
    "y_pred = polyreg.predict(X_test)"
   ]
  },
  {
   "cell_type": "code",
   "execution_count": 71,
   "id": "a466326f-9db9-4678-aa3d-8a964a92576f",
   "metadata": {},
   "outputs": [],
   "source": [
    "df_model = pd.DataFrame({'y_test':y_test.flatten(),\n",
    "                         'y_pred':y_pred.flatten()})"
   ]
  },
  {
   "cell_type": "code",
   "execution_count": 72,
   "id": "48dea982-772d-49b8-8148-75c76a4ecf06",
   "metadata": {},
   "outputs": [
    {
     "data": {
      "text/plain": [
       "[<matplotlib.lines.Line2D at 0x7f23debbc6d0>]"
      ]
     },
     "execution_count": 72,
     "metadata": {},
     "output_type": "execute_result"
    },
    {
     "data": {
      "image/png": "[encoded data removed]",
      "text/plain": [
       "<Figure size 432x288 with 1 Axes>"
      ]
     },
     "metadata": {
      "needs_background": "light"
     },
     "output_type": "display_data"
    }
   ],
   "source": [
    "plt.scatter(X_test, y_test)\n",
    "plt.plot(X_test, y_pred, color='red')"
   ]
  },
  {
   "cell_type": "code",
   "execution_count": 66,
   "id": "9f1733e5-a7b5-4dd2-968a-ce5e40684a1a",
   "metadata": {},
   "outputs": [
    {
     "data": {
      "text/plain": [
       "(80, 1)"
      ]
     },
     "execution_count": 66,
     "metadata": {},
     "output_type": "execute_result"
    }
   ],
   "source": [
    "y_pred.shape"
   ]
  },
  {
   "cell_type": "code",
   "execution_count": 67,
   "id": "b323812c-eedc-45eb-a3ef-576a04d5b6ac",
   "metadata": {},
   "outputs": [
    {
     "data": {
      "text/plain": [
       "(80, 1)"
      ]
     },
     "execution_count": 67,
     "metadata": {},
     "output_type": "execute_result"
    }
   ],
   "source": [
    "y_test.shape"
   ]
  },
  {
   "cell_type": "code",
   "execution_count": null,
   "id": "d9fc008e-fa5d-499f-8ac8-0adc37c786e7",
   "metadata": {},
   "outputs": [],
   "source": []
  }
 ],
 "metadata": {
  "kernelspec": {
   "display_name": "Python 3 (ipykernel)",
   "language": "python",
   "name": "python3"
  },
  "language_info": {
   "codemirror_mode": {
    "name": "ipython",
    "version": 3
   },
   "file_extension": ".py",
   "mimetype": "text/x-python",
   "name": "python",
   "nbconvert_exporter": "python",
   "pygments_lexer": "ipython3",
   "version": "3.9.7"
  }
 },
 "nbformat": 4,
 "nbformat_minor": 5
}
