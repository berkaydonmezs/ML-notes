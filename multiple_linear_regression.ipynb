{
 "cells": [
  {
   "cell_type": "code",
   "execution_count": 2,
   "id": "3cd777ec-4578-416d-ad37-07260d7d7c84",
   "metadata": {},
   "outputs": [],
   "source": [
    "import pandas as pd\n",
    "import matplotlib.pyplot as plt\n",
    "import numpy as np\n",
    "%matplotlib inline\n",
    "\n",
    "from sklearn.model_selection import train_test_split\n",
    "from sklearn.linear_model import LinearRegression\n",
    "from sklearn import metrics\n",
    "from sklearn.preprocessing import StandardScaler, RobustScaler, MinMaxScaler\n",
    "\n",
    "import seffaflik\n",
    "from seffaflik.elektrik import santraller, tuketim, uretim, yekdem\n"
   ]
  },
  {
   "cell_type": "code",
   "execution_count": 4,
   "id": "6fe2784d-2813-4fb5-9158-131d8d731616",
   "metadata": {},
   "outputs": [
    {
     "data": {
      "text/plain": [
       "<seffaflik._kimlik.Kimlik at 0x7ff8cb960c70>"
      ]
     },
     "execution_count": 4,
     "metadata": {},
     "output_type": "execute_result"
    }
   ],
   "source": [
    "seffaflik.Kimlik(istemci_taniticisi=\"berkay\")"
   ]
  },
  {
   "cell_type": "code",
   "execution_count": 5,
   "id": "f9acef5f-7079-4cdf-8c3b-e7467e0c0281",
   "metadata": {},
   "outputs": [],
   "source": [
    "df_prod = uretim.gerceklesen(baslangic_tarihi='2021-06-01', bitis_tarihi='2021-06-15')"
   ]
  },
  {
   "cell_type": "code",
   "execution_count": 6,
   "id": "7473e62c-77fd-4f97-8533-fec53cc26da0",
   "metadata": {},
   "outputs": [
    {
     "data": {
      "text/plain": [
       "Index(['Tarih', 'Saat', 'Doğalgaz', 'Barajlı', 'Linyit', 'Akarsu',\n",
       "       'İthal Kömür', 'Rüzgar', 'Güneş', 'Fuel Oil', 'Jeo Termal',\n",
       "       'Asfaltit Kömür', 'Taş Kömür', 'Biyokütle', 'Nafta', 'LNG',\n",
       "       'Uluslararası', 'Toplam'],\n",
       "      dtype='object')"
      ]
     },
     "execution_count": 6,
     "metadata": {},
     "output_type": "execute_result"
    }
   ],
   "source": [
    "df_prod.columns"
   ]
  },
  {
   "cell_type": "code",
   "execution_count": 28,
   "id": "c712537a-641c-4e59-8a8a-1fa264a147ce",
   "metadata": {},
   "outputs": [],
   "source": [
    "vars_to_use = ['Toplam', 'Rüzgar', 'Güneş', 'Taş Kömür', 'Doğalgaz']"
   ]
  },
  {
   "cell_type": "code",
   "execution_count": 29,
   "id": "ebf6ced5-2f40-422e-be4b-2ae0f1adccee",
   "metadata": {},
   "outputs": [],
   "source": [
    "df_set = df_prod[vars_to_use]"
   ]
  },
  {
   "cell_type": "code",
   "execution_count": 30,
   "id": "9c76f416-bf23-4615-b183-d8c27528ab92",
   "metadata": {},
   "outputs": [],
   "source": [
    "df_set = df_set.rename(columns={'Toplam': 'total production',\n",
    "                                'Rüzgar': 'wind production',\n",
    "                                'Güneş': 'solar production', \n",
    "                                'Taş Kömür': 'coal production',\n",
    "                                'Doğalgaz': 'natural gas production'})"
   ]
  },
  {
   "cell_type": "code",
   "execution_count": 31,
   "id": "f1b81cc8-b558-44e6-b9d2-d03306a57c57",
   "metadata": {},
   "outputs": [
    {
     "data": {
      "text/html": [
       "<div>\n",
       "<style scoped>\n",
       "    .dataframe tbody tr th:only-of-type {\n",
       "        vertical-align: middle;\n",
       "    }\n",
       "\n",
       "    .dataframe tbody tr th {\n",
       "        vertical-align: top;\n",
       "    }\n",
       "\n",
       "    .dataframe thead th {\n",
       "        text-align: right;\n",
       "    }\n",
       "</style>\n",
       "<table border=\"1\" class=\"dataframe\">\n",
       "  <thead>\n",
       "    <tr style=\"text-align: right;\">\n",
       "      <th></th>\n",
       "      <th>total production</th>\n",
       "      <th>wind production</th>\n",
       "      <th>solar production</th>\n",
       "      <th>coal production</th>\n",
       "      <th>natural gas production</th>\n",
       "    </tr>\n",
       "  </thead>\n",
       "  <tbody>\n",
       "    <tr>\n",
       "      <th>count</th>\n",
       "      <td>360.000000</td>\n",
       "      <td>360.000000</td>\n",
       "      <td>360.000000</td>\n",
       "      <td>360.000000</td>\n",
       "      <td>360.000000</td>\n",
       "    </tr>\n",
       "    <tr>\n",
       "      <th>mean</th>\n",
       "      <td>33586.921389</td>\n",
       "      <td>2018.113667</td>\n",
       "      <td>228.447389</td>\n",
       "      <td>448.045722</td>\n",
       "      <td>12831.107250</td>\n",
       "    </tr>\n",
       "    <tr>\n",
       "      <th>std</th>\n",
       "      <td>3639.801014</td>\n",
       "      <td>891.356838</td>\n",
       "      <td>238.630532</td>\n",
       "      <td>19.474946</td>\n",
       "      <td>1821.258414</td>\n",
       "    </tr>\n",
       "    <tr>\n",
       "      <th>min</th>\n",
       "      <td>25007.690000</td>\n",
       "      <td>347.350000</td>\n",
       "      <td>0.000000</td>\n",
       "      <td>386.320000</td>\n",
       "      <td>7789.140000</td>\n",
       "    </tr>\n",
       "    <tr>\n",
       "      <th>25%</th>\n",
       "      <td>30220.120000</td>\n",
       "      <td>1338.610000</td>\n",
       "      <td>0.000000</td>\n",
       "      <td>434.552500</td>\n",
       "      <td>11658.980000</td>\n",
       "    </tr>\n",
       "    <tr>\n",
       "      <th>50%</th>\n",
       "      <td>34531.550000</td>\n",
       "      <td>1849.730000</td>\n",
       "      <td>134.880000</td>\n",
       "      <td>452.590000</td>\n",
       "      <td>13059.850000</td>\n",
       "    </tr>\n",
       "    <tr>\n",
       "      <th>75%</th>\n",
       "      <td>36693.480000</td>\n",
       "      <td>2725.252500</td>\n",
       "      <td>490.030000</td>\n",
       "      <td>463.710000</td>\n",
       "      <td>14365.132500</td>\n",
       "    </tr>\n",
       "    <tr>\n",
       "      <th>max</th>\n",
       "      <td>39047.000000</td>\n",
       "      <td>4319.960000</td>\n",
       "      <td>610.040000</td>\n",
       "      <td>481.200000</td>\n",
       "      <td>15776.460000</td>\n",
       "    </tr>\n",
       "  </tbody>\n",
       "</table>\n",
       "</div>"
      ],
      "text/plain": [
       "       total production  wind production  solar production  coal production  \\\n",
       "count        360.000000       360.000000        360.000000       360.000000   \n",
       "mean       33586.921389      2018.113667        228.447389       448.045722   \n",
       "std         3639.801014       891.356838        238.630532        19.474946   \n",
       "min        25007.690000       347.350000          0.000000       386.320000   \n",
       "25%        30220.120000      1338.610000          0.000000       434.552500   \n",
       "50%        34531.550000      1849.730000        134.880000       452.590000   \n",
       "75%        36693.480000      2725.252500        490.030000       463.710000   \n",
       "max        39047.000000      4319.960000        610.040000       481.200000   \n",
       "\n",
       "       natural gas production  \n",
       "count              360.000000  \n",
       "mean             12831.107250  \n",
       "std               1821.258414  \n",
       "min               7789.140000  \n",
       "25%              11658.980000  \n",
       "50%              13059.850000  \n",
       "75%              14365.132500  \n",
       "max              15776.460000  "
      ]
     },
     "execution_count": 31,
     "metadata": {},
     "output_type": "execute_result"
    }
   ],
   "source": [
    "df_set.describe()"
   ]
  },
  {
   "cell_type": "code",
   "execution_count": 32,
   "id": "86805bc9-bc31-47d9-b05a-fdcf968c206b",
   "metadata": {},
   "outputs": [
    {
     "data": {
      "text/html": [
       "<div>\n",
       "<style scoped>\n",
       "    .dataframe tbody tr th:only-of-type {\n",
       "        vertical-align: middle;\n",
       "    }\n",
       "\n",
       "    .dataframe tbody tr th {\n",
       "        vertical-align: top;\n",
       "    }\n",
       "\n",
       "    .dataframe thead th {\n",
       "        text-align: right;\n",
       "    }\n",
       "</style>\n",
       "<table border=\"1\" class=\"dataframe\">\n",
       "  <thead>\n",
       "    <tr style=\"text-align: right;\">\n",
       "      <th></th>\n",
       "      <th>total production</th>\n",
       "      <th>wind production</th>\n",
       "      <th>solar production</th>\n",
       "      <th>coal production</th>\n",
       "      <th>natural gas production</th>\n",
       "    </tr>\n",
       "  </thead>\n",
       "  <tbody>\n",
       "    <tr>\n",
       "      <th>total production</th>\n",
       "      <td>1.000000</td>\n",
       "      <td>0.363616</td>\n",
       "      <td>0.141740</td>\n",
       "      <td>-0.126428</td>\n",
       "      <td>0.709280</td>\n",
       "    </tr>\n",
       "    <tr>\n",
       "      <th>wind production</th>\n",
       "      <td>0.363616</td>\n",
       "      <td>1.000000</td>\n",
       "      <td>-0.225318</td>\n",
       "      <td>0.090458</td>\n",
       "      <td>0.023828</td>\n",
       "    </tr>\n",
       "    <tr>\n",
       "      <th>solar production</th>\n",
       "      <td>0.141740</td>\n",
       "      <td>-0.225318</td>\n",
       "      <td>1.000000</td>\n",
       "      <td>-0.105741</td>\n",
       "      <td>-0.043347</td>\n",
       "    </tr>\n",
       "    <tr>\n",
       "      <th>coal production</th>\n",
       "      <td>-0.126428</td>\n",
       "      <td>0.090458</td>\n",
       "      <td>-0.105741</td>\n",
       "      <td>1.000000</td>\n",
       "      <td>0.125874</td>\n",
       "    </tr>\n",
       "    <tr>\n",
       "      <th>natural gas production</th>\n",
       "      <td>0.709280</td>\n",
       "      <td>0.023828</td>\n",
       "      <td>-0.043347</td>\n",
       "      <td>0.125874</td>\n",
       "      <td>1.000000</td>\n",
       "    </tr>\n",
       "  </tbody>\n",
       "</table>\n",
       "</div>"
      ],
      "text/plain": [
       "                        total production  wind production  solar production  \\\n",
       "total production                1.000000         0.363616          0.141740   \n",
       "wind production                 0.363616         1.000000         -0.225318   \n",
       "solar production                0.141740        -0.225318          1.000000   \n",
       "coal production                -0.126428         0.090458         -0.105741   \n",
       "natural gas production          0.709280         0.023828         -0.043347   \n",
       "\n",
       "                        coal production  natural gas production  \n",
       "total production              -0.126428                0.709280  \n",
       "wind production                0.090458                0.023828  \n",
       "solar production              -0.105741               -0.043347  \n",
       "coal production                1.000000                0.125874  \n",
       "natural gas production         0.125874                1.000000  "
      ]
     },
     "execution_count": 32,
     "metadata": {},
     "output_type": "execute_result"
    }
   ],
   "source": [
    "# not much potential linear relation except natural gas-total\n",
    "df_set.corr()"
   ]
  },
  {
   "cell_type": "code",
   "execution_count": 33,
   "id": "46051d8a-8d37-46fd-8a38-fdef7fc104a5",
   "metadata": {},
   "outputs": [
    {
     "data": {
      "text/plain": [
       "total production          0\n",
       "wind production           0\n",
       "solar production          0\n",
       "coal production           0\n",
       "natural gas production    0\n",
       "dtype: int64"
      ]
     },
     "execution_count": 33,
     "metadata": {},
     "output_type": "execute_result"
    }
   ],
   "source": [
    "df_set.isna().sum()"
   ]
  },
  {
   "cell_type": "code",
   "execution_count": 34,
   "id": "5ee4514f-40d1-4ecb-acd3-9757e60660e6",
   "metadata": {},
   "outputs": [
    {
     "data": {
      "text/plain": [
       "<AxesSubplot:xlabel='natural gas production'>"
      ]
     },
     "execution_count": 34,
     "metadata": {},
     "output_type": "execute_result"
    },
    {
     "data": {
      "image/png": "[encoded data removed]",
      "text/plain": [
       "<Figure size 432x288 with 1 Axes>"
      ]
     },
     "metadata": {
      "needs_background": "light"
     },
     "output_type": "display_data"
    }
   ],
   "source": [
    "df_set.plot(x='natural gas production', y='total production', style='o')"
   ]
  },
  {
   "cell_type": "code",
   "execution_count": 35,
   "id": "571deacd-0f76-4f03-ab95-fd27be4e25fb",
   "metadata": {},
   "outputs": [
    {
     "data": {
      "text/plain": [
       "Index(['total production', 'wind production', 'solar production',\n",
       "       'coal production', 'natural gas production'],\n",
       "      dtype='object')"
      ]
     },
     "execution_count": 35,
     "metadata": {},
     "output_type": "execute_result"
    }
   ],
   "source": [
    "df_set.columns"
   ]
  },
  {
   "cell_type": "code",
   "execution_count": 55,
   "id": "d8ff0506-8118-469a-b994-fccc90ac5031",
   "metadata": {},
   "outputs": [
    {
     "data": {
      "text/html": [
       "<div>\n",
       "<style scoped>\n",
       "    .dataframe tbody tr th:only-of-type {\n",
       "        vertical-align: middle;\n",
       "    }\n",
       "\n",
       "    .dataframe tbody tr th {\n",
       "        vertical-align: top;\n",
       "    }\n",
       "\n",
       "    .dataframe thead th {\n",
       "        text-align: right;\n",
       "    }\n",
       "</style>\n",
       "<table border=\"1\" class=\"dataframe\">\n",
       "  <thead>\n",
       "    <tr style=\"text-align: right;\">\n",
       "      <th></th>\n",
       "      <th>total production</th>\n",
       "      <th>wind production</th>\n",
       "      <th>solar production</th>\n",
       "      <th>coal production</th>\n",
       "      <th>natural gas production</th>\n",
       "    </tr>\n",
       "  </thead>\n",
       "  <tbody>\n",
       "    <tr>\n",
       "      <th>0</th>\n",
       "      <td>33292.52</td>\n",
       "      <td>1827.73</td>\n",
       "      <td>0.0</td>\n",
       "      <td>396.38</td>\n",
       "      <td>12671.91</td>\n",
       "    </tr>\n",
       "    <tr>\n",
       "      <th>1</th>\n",
       "      <td>31811.94</td>\n",
       "      <td>1818.45</td>\n",
       "      <td>0.0</td>\n",
       "      <td>403.05</td>\n",
       "      <td>12308.50</td>\n",
       "    </tr>\n",
       "  </tbody>\n",
       "</table>\n",
       "</div>"
      ],
      "text/plain": [
       "   total production  wind production  solar production  coal production  \\\n",
       "0          33292.52          1827.73               0.0           396.38   \n",
       "1          31811.94          1818.45               0.0           403.05   \n",
       "\n",
       "   natural gas production  \n",
       "0                12671.91  \n",
       "1                12308.50  "
      ]
     },
     "execution_count": 55,
     "metadata": {},
     "output_type": "execute_result"
    }
   ],
   "source": [
    "df_set.head(2)"
   ]
  },
  {
   "cell_type": "code",
   "execution_count": 63,
   "id": "780602ec-6cc2-4e17-8495-b22cf9c7dc33",
   "metadata": {},
   "outputs": [],
   "source": [
    "scaler = MinMaxScaler()\n",
    "df_norm = scaler.fit_transform(df_set)"
   ]
  },
  {
   "cell_type": "code",
   "execution_count": 66,
   "id": "3fd16bff-76ba-4e18-ae59-0d9a96abf63b",
   "metadata": {},
   "outputs": [
    {
     "data": {
      "text/plain": [
       "Index(['total production', 'wind production', 'solar production',\n",
       "       'coal production', 'natural gas production'],\n",
       "      dtype='object')"
      ]
     },
     "execution_count": 66,
     "metadata": {},
     "output_type": "execute_result"
    }
   ],
   "source": [
    "df_set.columns"
   ]
  },
  {
   "cell_type": "code",
   "execution_count": 47,
   "id": "3f5c9274-86c3-474a-8d6b-dc2a068f82ac",
   "metadata": {},
   "outputs": [],
   "source": [
    "target_column = ['total production']\n",
    "var_column = [col for col in df_set.columns if 'total' not in col]"
   ]
  },
  {
   "cell_type": "code",
   "execution_count": 69,
   "id": "bdd8729d-de35-4a14-96fc-badd56360694",
   "metadata": {},
   "outputs": [],
   "source": [
    "X = df_norm[:,1:].reshape(-1,len(var_column))\n",
    "y = df_norm[:,0].reshape(-1,len(target_column))"
   ]
  },
  {
   "cell_type": "code",
   "execution_count": 70,
   "id": "374d7023-4583-48b6-a1a5-603b606fd74a",
   "metadata": {},
   "outputs": [
    {
     "name": "stdout",
     "output_type": "stream",
     "text": [
      "(360, 4)\n",
      "(360, 1)\n"
     ]
    }
   ],
   "source": [
    "print(X.shape)\n",
    "print(y.shape)"
   ]
  },
  {
   "cell_type": "code",
   "execution_count": 71,
   "id": "7e2bc7c7-bae6-43fc-9c15-bc412ff2ad03",
   "metadata": {},
   "outputs": [],
   "source": [
    "X_train, X_test, y_train, y_test = train_test_split(X, y, test_size=0.22, random_state=42)"
   ]
  },
  {
   "cell_type": "code",
   "execution_count": null,
   "id": "a72876f5-502f-4770-bc72-47d12875a65c",
   "metadata": {},
   "outputs": [],
   "source": []
  },
  {
   "cell_type": "code",
   "execution_count": 73,
   "id": "b9fd80bc-7345-4cea-b0ff-5a48dbcdca29",
   "metadata": {},
   "outputs": [
    {
     "data": {
      "text/plain": [
       "LinearRegression()"
      ]
     },
     "execution_count": 73,
     "metadata": {},
     "output_type": "execute_result"
    }
   ],
   "source": [
    "regressor = LinearRegression()\n",
    "\n",
    "regressor.fit(X_train, y_train)"
   ]
  },
  {
   "cell_type": "code",
   "execution_count": 77,
   "id": "649c481f-cd4b-4dc9-b7a6-1ed1b3e32712",
   "metadata": {},
   "outputs": [
    {
     "name": "stdout",
     "output_type": "stream",
     "text": [
      "[[ 0.48630088  0.16837837 -0.28361534  0.83135112]]\n",
      "[0.00512643]\n"
     ]
    }
   ],
   "source": [
    "print(regressor.coef_)\n",
    "print(regressor.intercept_)"
   ]
  },
  {
   "cell_type": "code",
   "execution_count": 79,
   "id": "3bff1154-f018-4f42-9cc8-7c1b53e70fe3",
   "metadata": {},
   "outputs": [],
   "source": [
    "y_pred = regressor.predict(X_test)"
   ]
  },
  {
   "cell_type": "code",
   "execution_count": 89,
   "id": "af51ae8d-0b04-426d-b855-6c32b070e50d",
   "metadata": {},
   "outputs": [],
   "source": [
    "df_model = pd.DataFrame({'y_test':y_test.flatten(),\n",
    "                        'y_pred':y_pred.flatten()})"
   ]
  },
  {
   "cell_type": "code",
   "execution_count": 91,
   "id": "9296b44a-fed9-4254-9d94-82ef970ce482",
   "metadata": {},
   "outputs": [
    {
     "data": {
      "image/png": "[encoded data removed]",
      "text/plain": [
       "<Figure size 1152x864 with 1 Axes>"
      ]
     },
     "metadata": {
      "needs_background": "light"
     },
     "output_type": "display_data"
    }
   ],
   "source": [
    "df_model.plot(kind='bar', figsize=(16,12))\n",
    "plt.grid(which='major', linestyle='-', linewidth=0.5)\n",
    "plt.show()"
   ]
  },
  {
   "cell_type": "code",
   "execution_count": 93,
   "id": "7479ebc7-c646-406e-bbe0-6ba408dd1e9d",
   "metadata": {},
   "outputs": [
    {
     "name": "stdout",
     "output_type": "stream",
     "text": [
      "MAE: 0.11198758520409602\n",
      "MSE: 0.018531377226197195\n",
      "RMSE: 0.13613000119810914\n"
     ]
    }
   ],
   "source": [
    "print('MAE:',metrics.mean_absolute_error(y_test, y_pred))\n",
    "print('MSE:',metrics.mean_squared_error(y_test, y_pred))\n",
    "print('RMSE:',np.sqrt(metrics.mean_squared_error(y_test, y_pred)))"
   ]
  },
  {
   "cell_type": "code",
   "execution_count": null,
   "id": "38f55487-4e8a-4cfd-adeb-6760f5421677",
   "metadata": {},
   "outputs": [],
   "source": []
  },
  {
   "cell_type": "code",
   "execution_count": null,
   "id": "755110cb-b976-499f-8b4c-50c0499b5e6e",
   "metadata": {},
   "outputs": [],
   "source": []
  },
  {
   "cell_type": "code",
   "execution_count": null,
   "id": "f46b6ed2-2a21-403c-a344-d8212a80398f",
   "metadata": {},
   "outputs": [],
   "source": []
  }
 ],
 "metadata": {
  "kernelspec": {
   "display_name": "Python 3 (ipykernel)",
   "language": "python",
   "name": "python3"
  },
  "language_info": {
   "codemirror_mode": {
    "name": "ipython",
    "version": 3
   },
   "file_extension": ".py",
   "mimetype": "text/x-python",
   "name": "python",
   "nbconvert_exporter": "python",
   "pygments_lexer": "ipython3",
   "version": "3.9.7"
  }
 },
 "nbformat": 4,
 "nbformat_minor": 5
}
